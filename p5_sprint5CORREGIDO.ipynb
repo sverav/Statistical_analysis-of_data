{
 "cells": [
  {
   "cell_type": "markdown",
   "metadata": {},
   "source": [
    "**¡Hola Stephania!** 😊\n",
    "\n",
    "Mi nombre es **Alejandro Castellanos** y hoy tengo el placer de ser el revisor de tu proyecto.\n",
    "\n",
    "Voy a revisar todo tu código con detalle, buscando tanto los puntos fuertes como aquellos en los que podrías mejorar. Te dejaré comentarios a lo largo del notebook, destacando lo que has hecho bien y sugiriendo ajustes donde sea necesario. Si encuentro algún error, no te preocupes, te lo haré saber de forma clara y te daré información útil para que puedas corregirlo en la próxima. Si en algún punto tienes comentarios, siéntete libre de dejarlos también.\n",
    "\n",
    "\n",
    "Encontrarás mis comentarios específicos dentro de cajas verdes, amarillas o rojas, es muy importante que no muevas, modifiques o borres mis comentarios, con el fin de tener un seguimiento adecuado de tu proceso.:\n",
    "\n",
    "\n",
    "<div class=\"alert alert-block alert-success\">\n",
    "<b>Comentario del revisor</b> <a class=“tocSkip”></a>\n",
    "Si todo está perfecto.\n",
    "</div>\n",
    "\n",
    "<div class=\"alert alert-block alert-warning\">\n",
    "<b>Comentario del revisor</b> <a class=“tocSkip”></a>\n",
    "Si tu código está bien pero se puede mejorar o hay algún detalle que le hace falta.\n",
    "</div>\n",
    "\n",
    "<div class=\"alert alert-block alert-danger\">\n",
    "<b>Comentario del revisor</b> <a class=“tocSkip”></a>\n",
    "Si de pronto hace falta algo o existe algún problema con tu código o conclusiones.\n",
    "</div>\n",
    "\n",
    "Puedes responderme de esta forma:\n",
    "<div class=\"alert alert-block alert-info\">\n",
    "<b>Respuesta del estudiante</b> <a class=“tocSkip”></a>\n",
    "</div>\n",
    "\n",
    "A continuación te dejaré un comentario general con mi valoración del proyecto. **¡Mi objetivo es que sigas aprendiendo y mejorando con cada paso!**"
   ]
  },
  {
   "cell_type": "markdown",
   "metadata": {},
   "source": [
    "----"
   ]
  },
  {
   "cell_type": "markdown",
   "metadata": {},
   "source": [
    "<div class=\"alert alert-block alert-warning\">\n",
    "<b>Comentario General del revisor (1ra Iteración)</b> <a class=“tocSkip”></a>\n",
    "\n",
    "Stephania has realizado un análisis exploratorio de datos (EDA) muy cuidadoso, preparando meticulosamente la información para garantizar un estudio riguroso, lo cual demuestra tu compromiso con la calidad metodológica. En el aspecto de visualización, has empleado herramientas que permiten comprender el comportamiento de consumo de los usuarios en diferentes planes, mostrando habilidad para representar datos complejos. Adicionalmente, tienes un excelente dominio para hacer comparaciones entre subconjuntos de datos empleando funciones de pruebas de hipóteisis. También debo destacar las interpretaciones que has incluido respecto a la información que obtuviste, esta habilidad es clave en cualquier proyecto con datos, lo que permite darle mayor valor y significado al trabajo que realizaste.\n",
    "    \n",
    "Es necesario realizar algunos ajustes en el cálculo del consumo de minutos e internet para determinar con mayor precisión el cobro mensual por usuario, lo cual es fundamental para la validez de tus conclusiones.Estoy seguro que podrás hacer estos ajustes de fácilmente. Estaré atento a tu próxima iteración 👀.\n",
    "\n",
    "</div>"
   ]
  },
  {
   "cell_type": "markdown",
   "metadata": {},
   "source": [
    "----"
   ]
  },
  {
   "cell_type": "markdown",
   "metadata": {
    "id": "3rYiDeEH0q0f"
   },
   "source": [
    "# ¿Cuál es la mejor tarifa?\n",
    "\n",
    "Trabajas como analista para el operador de telecomunicaciones Megaline. La empresa ofrece a sus clientes dos tarifas de prepago, Surf y Ultimate. El departamento comercial quiere saber cuál de las tarifas genera más ingresos para poder ajustar el presupuesto de publicidad.\n",
    "\n",
    "Vas a realizar un análisis preliminar de las tarifas basado en una selección de clientes relativamente pequeña. Tendrás los datos de 500 clientes de Megaline: quiénes son los clientes, de dónde son, qué tarifa usan, así como la cantidad de llamadas que hicieron y los mensajes de texto que enviaron en 2018. Tu trabajo es analizar el comportamiento de los clientes y determinar qué tarifa de prepago genera más ingresos."
   ]
  },
  {
   "cell_type": "markdown",
   "metadata": {
    "id": "VNddPNRQ0q0w"
   },
   "source": [
    "[Te proporcionamos algunos comentarios para orientarte mientras completas este proyecto. Pero debes asegurarte de eliminar todos los comentarios entre corchetes antes de entregar tu proyecto.]\n",
    "\n",
    "[Antes de sumergirte en el análisis de datos, explica por tu propia cuenta el propósito del proyecto y las acciones que planeas realizar.]\n",
    "\n",
    "[Ten en cuenta que estudiar, modificar y analizar datos es un proceso iterativo. Es normal volver a los pasos anteriores y corregirlos/ampliarlos para permitir nuevos pasos.]"
   ]
  },
  {
   "cell_type": "markdown",
   "metadata": {
    "id": "MQi4IPy70q0y"
   },
   "source": [
    "## Inicialización"
   ]
  },
  {
   "cell_type": "code",
   "execution_count": 1,
   "metadata": {
    "id": "MtYIuBxu0q0z"
   },
   "outputs": [],
   "source": [
    "# Cargar todas las librerías\n",
    "from scipy import stats as st\n",
    "import numpy as np\n",
    "import pandas as pd\n"
   ]
  },
  {
   "cell_type": "markdown",
   "metadata": {
    "id": "4ysWWC5i0q00"
   },
   "source": [
    "## Cargar datos"
   ]
  },
  {
   "cell_type": "code",
   "execution_count": 2,
   "metadata": {
    "id": "CCqPW7rS0q01"
   },
   "outputs": [],
   "source": [
    "# Carga los archivos de datos en diferentes DataFrames\n",
    "data_1= pd.read_csv(\"/datasets/megaline_calls.csv\") \n",
    "\n",
    "data_2=pd.read_csv(\"/datasets/megaline_internet.csv\") \n",
    "\n",
    "data_3=pd.read_csv(\"/datasets/megaline_messages.csv\")\n",
    "\n",
    "data_4=pd.read_csv(\"/datasets/megaline_plans.csv\")\n",
    "\n",
    "data_5=pd.read_csv(\"/datasets/megaline_users.csv\")\n"
   ]
  },
  {
   "cell_type": "markdown",
   "metadata": {
    "id": "69qqoJ3r0q01"
   },
   "source": [
    "## Preparar los datos"
   ]
  },
  {
   "cell_type": "markdown",
   "metadata": {
    "id": "vUuZw80S0q01"
   },
   "source": [
    "[Los datos para este proyecto se dividen en varias tablas. Explora cada una para tener una comprensión inicial de los datos. Si es necesario, haz las correcciones requeridas en cada tabla.]"
   ]
  },
  {
   "cell_type": "markdown",
   "metadata": {
    "id": "ohBhimvH0q01"
   },
   "source": [
    "## Tarifas"
   ]
  },
  {
   "cell_type": "code",
   "execution_count": 3,
   "metadata": {
    "id": "GptqP3Q40q02"
   },
   "outputs": [
    {
     "name": "stdout",
     "output_type": "stream",
     "text": [
      "<class 'pandas.core.frame.DataFrame'>\n",
      "RangeIndex: 2 entries, 0 to 1\n",
      "Data columns (total 8 columns):\n",
      " #   Column                 Non-Null Count  Dtype  \n",
      "---  ------                 --------------  -----  \n",
      " 0   messages_included      2 non-null      int64  \n",
      " 1   mb_per_month_included  2 non-null      int64  \n",
      " 2   minutes_included       2 non-null      int64  \n",
      " 3   usd_monthly_pay        2 non-null      int64  \n",
      " 4   usd_per_gb             2 non-null      int64  \n",
      " 5   usd_per_message        2 non-null      float64\n",
      " 6   usd_per_minute         2 non-null      float64\n",
      " 7   plan_name              2 non-null      object \n",
      "dtypes: float64(2), int64(5), object(1)\n",
      "memory usage: 256.0+ bytes\n",
      "None\n"
     ]
    }
   ],
   "source": [
    "# Imprime la información general/resumida sobre el DataFrame de las tarifas\n",
    "print(data_4.info())\n"
   ]
  },
  {
   "cell_type": "code",
   "execution_count": 4,
   "metadata": {
    "id": "64xzjwL70q02"
   },
   "outputs": [
    {
     "name": "stdout",
     "output_type": "stream",
     "text": [
      "   messages_included  mb_per_month_included  minutes_included  \\\n",
      "0                 50                  15360               500   \n",
      "1               1000                  30720              3000   \n",
      "\n",
      "   usd_monthly_pay  usd_per_gb  usd_per_message  usd_per_minute plan_name  \n",
      "0               20          10             0.03            0.03      surf  \n",
      "1               70           7             0.01            0.01  ultimate  \n"
     ]
    }
   ],
   "source": [
    "# Imprime una muestra de los datos para las tarifas\n",
    "print(data_4.head())\n"
   ]
  },
  {
   "cell_type": "markdown",
   "metadata": {
    "id": "mEc_3_hs0q02"
   },
   "source": [
    "Este Data Frame es de las tarifas que ofrece la compañía, por lo tanto las 2 filas existentes son las que corresponden.\n",
    "Al imprimir la información sobre este conjunto de datos, se observa que no existen valores nulos, lo que indica que están todos los datos necesarios y corresponden a lo que dice el nombre de columna.\n",
    "Respecto al tipo de datos, los numéricos float64 e int64 son correctos, y también los son los datos guardados en la columna 'plan_name'.\n"
   ]
  },
  {
   "cell_type": "markdown",
   "metadata": {
    "id": "R3C05i1l0q03"
   },
   "source": [
    "## Corregir datos"
   ]
  },
  {
   "cell_type": "markdown",
   "metadata": {
    "id": "bIi8StZI0q03"
   },
   "source": [
    "[Corrige los problemas obvios con los datos basándote en las observaciones iniciales.]"
   ]
  },
  {
   "cell_type": "code",
   "execution_count": null,
   "metadata": {
    "id": "Y7SVmjGn0q03"
   },
   "outputs": [],
   "source": []
  },
  {
   "cell_type": "markdown",
   "metadata": {
    "id": "LJir7bml0q03"
   },
   "source": [
    "## Enriquecer los datos"
   ]
  },
  {
   "cell_type": "markdown",
   "metadata": {
    "id": "eqADpCfg0q04"
   },
   "source": [
    "[Agrega factores adicionales a los datos si crees que pudieran ser útiles.]"
   ]
  },
  {
   "cell_type": "code",
   "execution_count": null,
   "metadata": {
    "id": "gfcIEuXV0q04"
   },
   "outputs": [],
   "source": []
  },
  {
   "cell_type": "markdown",
   "metadata": {
    "id": "1n2X6WXf0q04"
   },
   "source": [
    "## Usuarios/as"
   ]
  },
  {
   "cell_type": "code",
   "execution_count": 5,
   "metadata": {
    "id": "2NgjWFqx0q05"
   },
   "outputs": [
    {
     "name": "stdout",
     "output_type": "stream",
     "text": [
      "<class 'pandas.core.frame.DataFrame'>\n",
      "RangeIndex: 500 entries, 0 to 499\n",
      "Data columns (total 8 columns):\n",
      " #   Column      Non-Null Count  Dtype \n",
      "---  ------      --------------  ----- \n",
      " 0   user_id     500 non-null    int64 \n",
      " 1   first_name  500 non-null    object\n",
      " 2   last_name   500 non-null    object\n",
      " 3   age         500 non-null    int64 \n",
      " 4   city        500 non-null    object\n",
      " 5   reg_date    500 non-null    object\n",
      " 6   plan        500 non-null    object\n",
      " 7   churn_date  34 non-null     object\n",
      "dtypes: int64(2), object(6)\n",
      "memory usage: 31.4+ KB\n",
      "None\n"
     ]
    }
   ],
   "source": [
    "# Imprime la información general/resumida sobre el DataFrame de usuarios\n",
    "\n",
    "print(data_5.info())"
   ]
  },
  {
   "cell_type": "code",
   "execution_count": 6,
   "metadata": {
    "id": "1IN1L9uh0q05"
   },
   "outputs": [
    {
     "name": "stdout",
     "output_type": "stream",
     "text": [
      "     user_id first_name  last_name  age  \\\n",
      "343     1343    Teresia      Ewing   43   \n",
      "116     1116     Moriah      Yates   60   \n",
      "82      1082    Dominic       Witt   64   \n",
      "154     1154   Humberto     Pruitt   53   \n",
      "137     1137    Allegra    Hopkins   20   \n",
      "125     1125    Assunta     Carver   39   \n",
      "108     1108   Porfirio       Kane   45   \n",
      "110     1110   Anderson     Cotton   65   \n",
      "83      1083     Lyndia    Acevedo   65   \n",
      "85      1085    Ignacio    Bennett   48   \n",
      "78      1078    Earnest       Gray   47   \n",
      "173     1173    Tristan       Cain   27   \n",
      "19      1019     Shizue     Landry   34   \n",
      "448     1448     Elayne      Foley   33   \n",
      "217     1217        Ned     Thomas   69   \n",
      "91      1091     Taylor     Oliver   38   \n",
      "272     1272     Ernest    Mercado   23   \n",
      "76      1076      Ronny   Browning   51   \n",
      "1       1001     Mickey  Wilkerson   28   \n",
      "64      1064    Gerardo     Ashley   46   \n",
      "375     1375       Andy     Holden   69   \n",
      "189     1189   Terrence      Smith   75   \n",
      "93      1093     Karima    Hampton   69   \n",
      "58      1058   Reinaldo      Colon   59   \n",
      "205     1205     Rafael       Wade   43   \n",
      "456     1456    Seymour      Olsen   66   \n",
      "133     1133      Larry       Barr   50   \n",
      "450     1450      Errol    Marquez   67   \n",
      "32      1032     Delila     Dalton   59   \n",
      "77      1077       Chau    Webster   23   \n",
      "\n",
      "                                                 city    reg_date      plan  \\\n",
      "343     Miami-Fort Lauderdale-West Palm Beach, FL MSA  2018-08-23      surf   \n",
      "116                          Cincinnati, OH-KY-IN MSA  2018-08-08      surf   \n",
      "82                              Memphis, TN-MS-AR MSA  2018-04-15      surf   \n",
      "154  Nashville-Davidson–Murfreesboro–Franklin, TN MSA  2018-07-18  ultimate   \n",
      "137            Chicago-Naperville-Elgin, IL-IN-WI MSA  2018-10-02      surf   \n",
      "125             North Port-Sarasota-Bradenton, FL MSA  2018-08-16      surf   \n",
      "108                            Salt Lake City, UT MSA  2018-12-30  ultimate   \n",
      "110  Washington-Arlington-Alexandria, DC-VA-MD-WV MSA  2018-04-20      surf   \n",
      "83             Los Angeles-Long Beach-Anaheim, CA MSA  2018-10-26      surf   \n",
      "85              Atlanta-Sandy Springs-Roswell, GA MSA  2018-07-19  ultimate   \n",
      "78                    Seattle-Tacoma-Bellevue, WA MSA  2018-02-11      surf   \n",
      "173              Oxnard-Thousand Oaks-Ventura, CA MSA  2018-09-28      surf   \n",
      "19                               Jacksonville, FL MSA  2018-01-16      surf   \n",
      "448                            Urban Honolulu, HI MSA  2018-10-17      surf   \n",
      "217                          Dayton-Kettering, OH MSA  2018-06-04      surf   \n",
      "91           Riverside-San Bernardino-Ontario, CA MSA  2018-05-04  ultimate   \n",
      "272       Minneapolis-St. Paul-Bloomington, MN-WI MSA  2018-08-04      surf   \n",
      "76                        Buffalo-Cheektowaga, NY MSA  2018-07-29      surf   \n",
      "1                     Seattle-Tacoma-Bellevue, WA MSA  2018-08-13      surf   \n",
      "64          New York-Newark-Jersey City, NY-NJ-PA MSA  2018-06-03      surf   \n",
      "375   Philadelphia-Camden-Wilmington, PA-NJ-DE-MD MSA  2018-12-01      surf   \n",
      "189                                  Columbus, OH MSA  2018-09-24      surf   \n",
      "93   Nashville-Davidson–Murfreesboro–Franklin, TN MSA  2018-12-17      surf   \n",
      "58             Los Angeles-Long Beach-Anaheim, CA MSA  2018-11-06      surf   \n",
      "205         New York-Newark-Jersey City, NY-NJ-PA MSA  2018-04-05      surf   \n",
      "456       Minneapolis-St. Paul-Bloomington, MN-WI MSA  2018-06-02  ultimate   \n",
      "133                          Cincinnati, OH-KY-IN MSA  2018-07-21  ultimate   \n",
      "450                               Bakersfield, CA MSA  2018-06-16  ultimate   \n",
      "32                          Birmingham-Hoover, AL MSA  2018-06-07  ultimate   \n",
      "77              Charlotte-Concord-Gastonia, NC-SC MSA  2018-01-14  ultimate   \n",
      "\n",
      "     churn_date  \n",
      "343         NaN  \n",
      "116         NaN  \n",
      "82          NaN  \n",
      "154         NaN  \n",
      "137         NaN  \n",
      "125         NaN  \n",
      "108         NaN  \n",
      "110         NaN  \n",
      "83   2018-12-18  \n",
      "85          NaN  \n",
      "78          NaN  \n",
      "173         NaN  \n",
      "19          NaN  \n",
      "448         NaN  \n",
      "217         NaN  \n",
      "91          NaN  \n",
      "272         NaN  \n",
      "76          NaN  \n",
      "1           NaN  \n",
      "64          NaN  \n",
      "375         NaN  \n",
      "189         NaN  \n",
      "93          NaN  \n",
      "58          NaN  \n",
      "205         NaN  \n",
      "456         NaN  \n",
      "133         NaN  \n",
      "450         NaN  \n",
      "32          NaN  \n",
      "77          NaN  \n"
     ]
    }
   ],
   "source": [
    "# Imprime una muestra de datos para usuarios\n",
    "muestra_d5 = data_5.sample(n=30)\n",
    "print(muestra_d5)"
   ]
  },
  {
   "cell_type": "markdown",
   "metadata": {
    "id": "dCZoUq4f0q06"
   },
   "source": [
    "En la columna 'churn_date', que se define como  la fecha en la que el usuario dejó de usar el servicio, se muestran solo 34 valores no nulos al imprimir la información general del Data Frame, y esto se comprueba al imprimir una muestra de 30 filas.Se indica de manera previa que si el valor es ausente, la tarifa se estaba usando cuando fue extraída esta base de datos.Por lo tanto, los 466 usuarios que tienen NaN en la columna 'churn_date' son usuario que siguen utilizando el servicio.Se podría eliminar la existencia de estos valores pero en verdad no es útil porque ya sabemos lo que significa y se puede utilizar como filtro el saber cuántas personas siguen utilizando el servicio.\n",
    "Por otro lado, la columna 'reg_date' muestra que el tipo de datos es object pero en verdad se trata de una fecha y se debe cambiar al tipo de dato datetime.\n",
    "Finlmente, la columna 'plan' debiera tener el mismo nombre que la columna que muestra los planes en el dataframe de ls tridas (data_4) por lo que se debe cambiar el nombre de esta columna a 'plan_name' pues mas adelante se deberá trabajar cruzando la información de ambos conjuntos de datos cundo quiera saber cuánto gasta realmente cada usuario en su plan"
   ]
  },
  {
   "cell_type": "markdown",
   "metadata": {
    "id": "BX5FQh_I0q06"
   },
   "source": [
    "### Corregir los datos"
   ]
  },
  {
   "cell_type": "markdown",
   "metadata": {
    "id": "8OdKMwJv0q06"
   },
   "source": [
    "[Corrige los problemas obvios con los datos basándote en las observaciones iniciales.]"
   ]
  },
  {
   "cell_type": "code",
   "execution_count": 7,
   "metadata": {
    "id": "yUqX-K0C0q07"
   },
   "outputs": [
    {
     "name": "stdout",
     "output_type": "stream",
     "text": [
      "<class 'pandas.core.frame.DataFrame'>\n",
      "RangeIndex: 500 entries, 0 to 499\n",
      "Data columns (total 8 columns):\n",
      " #   Column      Non-Null Count  Dtype         \n",
      "---  ------      --------------  -----         \n",
      " 0   user_id     500 non-null    int64         \n",
      " 1   first_name  500 non-null    object        \n",
      " 2   last_name   500 non-null    object        \n",
      " 3   age         500 non-null    int64         \n",
      " 4   city        500 non-null    object        \n",
      " 5   reg_date    500 non-null    datetime64[ns]\n",
      " 6   plan        500 non-null    object        \n",
      " 7   churn_date  34 non-null     object        \n",
      "dtypes: datetime64[ns](1), int64(2), object(5)\n",
      "memory usage: 31.4+ KB\n",
      "None\n"
     ]
    }
   ],
   "source": [
    "data_5['reg_date'] = pd.to_datetime(data_5['reg_date']) #convertir los datos de \"reg_date\" a un dato tipo datetime\n",
    "\n",
    "print(data_5.info())"
   ]
  },
  {
   "cell_type": "markdown",
   "metadata": {
    "id": "ycwuARJp0q07"
   },
   "source": [
    "### Enriquecer los datos"
   ]
  },
  {
   "cell_type": "markdown",
   "metadata": {
    "id": "96NIh4CJ0q08"
   },
   "source": [
    "[Agrega factores adicionales a los datos si crees que pudieran ser útiles.]"
   ]
  },
  {
   "cell_type": "code",
   "execution_count": 8,
   "metadata": {
    "id": "iq0AaBS90q08"
   },
   "outputs": [
    {
     "name": "stdout",
     "output_type": "stream",
     "text": [
      "<class 'pandas.core.frame.DataFrame'>\n",
      "RangeIndex: 500 entries, 0 to 499\n",
      "Data columns (total 8 columns):\n",
      " #   Column      Non-Null Count  Dtype         \n",
      "---  ------      --------------  -----         \n",
      " 0   user_id     500 non-null    int64         \n",
      " 1   first_name  500 non-null    object        \n",
      " 2   last_name   500 non-null    object        \n",
      " 3   age         500 non-null    int64         \n",
      " 4   city        500 non-null    object        \n",
      " 5   reg_date    500 non-null    datetime64[ns]\n",
      " 6   plan_name   500 non-null    object        \n",
      " 7   churn_date  34 non-null     object        \n",
      "dtypes: datetime64[ns](1), int64(2), object(5)\n",
      "memory usage: 31.4+ KB\n",
      "None\n"
     ]
    }
   ],
   "source": [
    "\n",
    "# Cambiar el nombre de la columna\n",
    "data_5.rename(columns={'plan': 'plan_name'}, inplace=True)\n",
    "\n",
    "# Mostrar el dataframe resultante\n",
    "print(data_5.info())"
   ]
  },
  {
   "cell_type": "markdown",
   "metadata": {
    "id": "o7MeKCid0q08"
   },
   "source": [
    "## Llamadas"
   ]
  },
  {
   "cell_type": "code",
   "execution_count": 9,
   "metadata": {
    "id": "6dDlnoDm0q08"
   },
   "outputs": [
    {
     "name": "stdout",
     "output_type": "stream",
     "text": [
      "<class 'pandas.core.frame.DataFrame'>\n",
      "RangeIndex: 137735 entries, 0 to 137734\n",
      "Data columns (total 4 columns):\n",
      " #   Column     Non-Null Count   Dtype  \n",
      "---  ------     --------------   -----  \n",
      " 0   id         137735 non-null  object \n",
      " 1   user_id    137735 non-null  int64  \n",
      " 2   call_date  137735 non-null  object \n",
      " 3   duration   137735 non-null  float64\n",
      "dtypes: float64(1), int64(1), object(2)\n",
      "memory usage: 4.2+ MB\n",
      "None\n"
     ]
    }
   ],
   "source": [
    "# Imprime la información general/resumida sobre el DataFrame de las llamadas\n",
    "\n",
    "print(data_1.info())"
   ]
  },
  {
   "cell_type": "code",
   "execution_count": 10,
   "metadata": {
    "id": "kuh1vlNB0q09"
   },
   "outputs": [
    {
     "name": "stdout",
     "output_type": "stream",
     "text": [
      "               id  user_id   call_date  duration\n",
      "55311     1198_55     1198  2018-12-16      0.00\n",
      "114698   1401_549     1401  2018-12-01      5.56\n",
      "16471    1064_329     1064  2018-12-04      0.00\n",
      "45942     1167_25     1167  2018-11-12     13.82\n",
      "78406    1280_477     1280  2018-12-20      4.75\n",
      "72709    1257_449     1257  2018-06-06      4.34\n",
      "71471    1254_460     1254  2018-10-01     14.14\n",
      "93153    1334_521     1334  2018-12-25     15.40\n",
      "75982    1268_486     1268  2018-12-11      6.92\n",
      "76732     1274_37     1274  2018-12-29      5.23\n",
      "108037  1382_1084     1382  2018-10-29      0.00\n",
      "86887    1320_556     1320  2018-11-23      0.00\n",
      "34234      1127_2     1127  2018-12-24      7.47\n",
      "123953     1438_1     1438  2018-10-14     11.43\n",
      "114476   1401_189     1401  2018-10-09     12.97\n",
      "81344    1293_220     1293  2018-09-11     11.99\n",
      "68282    1246_301     1246  2018-06-21      2.17\n",
      "43047     1157_76     1157  2018-09-21     14.92\n",
      "113059   1397_811     1397  2018-08-03      0.00\n",
      "64682     1235_12     1235  2018-11-08      4.35\n",
      "56925    1203_316     1203  2018-10-25      9.82\n",
      "130520     1469_9     1469  2018-12-02     19.66\n",
      "27264     1103_54     1103  2018-12-30      5.79\n",
      "64047    1232_324     1232  2018-12-22      0.00\n",
      "679      1004_164     1004  2018-07-12      7.94\n",
      "132034   1475_181     1475  2018-12-06      4.67\n",
      "79796    1285_303     1285  2018-11-18      7.05\n",
      "71727    1255_458     1255  2018-12-26      4.04\n",
      "129251   1465_588     1465  2018-07-02      9.30\n",
      "74771      1264_9     1264  2018-11-10      4.19\n"
     ]
    }
   ],
   "source": [
    "# Imprime una muestra de datos para las llamadas\n",
    "\n",
    "muestra_d1 = data_1.sample(n=30)\n",
    "print(muestra_d1)"
   ]
  },
  {
   "cell_type": "markdown",
   "metadata": {
    "id": "DOAxYJSx0q09"
   },
   "source": [
    "Se observan valores de duración de llamadas igual a cero.Esto no sería útil para el análisis puesto que este conjunto de datos nos permitiría concluir si los usuarios sobrepasan los límites de las llamadas que establece cada plan.Por lo tanto, lo más util sería eliminar las filas cuya columna 'duration' es 0.00"
   ]
  },
  {
   "cell_type": "markdown",
   "metadata": {
    "id": "S7hzxmbX0q0-"
   },
   "source": [
    "### Corregir los datos"
   ]
  },
  {
   "cell_type": "markdown",
   "metadata": {
    "id": "YxWyAjD20q0-"
   },
   "source": [
    "[Corrige los problemas obvios con los datos basándote en las observaciones iniciales.]"
   ]
  },
  {
   "cell_type": "code",
   "execution_count": 11,
   "metadata": {
    "id": "S2r8xA4f0q0-"
   },
   "outputs": [
    {
     "name": "stdout",
     "output_type": "stream",
     "text": [
      "<class 'pandas.core.frame.DataFrame'>\n",
      "Int64Index: 110901 entries, 0 to 137734\n",
      "Data columns (total 4 columns):\n",
      " #   Column     Non-Null Count   Dtype  \n",
      "---  ------     --------------   -----  \n",
      " 0   id         110901 non-null  object \n",
      " 1   user_id    110901 non-null  int64  \n",
      " 2   call_date  110901 non-null  object \n",
      " 3   duration   110901 non-null  float64\n",
      "dtypes: float64(1), int64(1), object(2)\n",
      "memory usage: 4.2+ MB\n",
      "None\n"
     ]
    }
   ],
   "source": [
    "data_1_cleaned = data_1[data_1['duration'] != 0] #se eliminan las  filas que tienen llamadas con duracion de 0 minutos\n",
    "\n",
    "print(data_1_cleaned.info())"
   ]
  },
  {
   "cell_type": "markdown",
   "metadata": {
    "id": "KrMgTrlG0q0_"
   },
   "source": [
    "### Enriquecer los datos"
   ]
  },
  {
   "cell_type": "markdown",
   "metadata": {
    "id": "a9MbmEvE0q0_"
   },
   "source": [
    "[Agrega factores adicionales a los datos si crees que pudieran ser útiles.]"
   ]
  },
  {
   "cell_type": "code",
   "execution_count": 12,
   "metadata": {
    "id": "iZ1avpA_0q0_"
   },
   "outputs": [
    {
     "name": "stdout",
     "output_type": "stream",
     "text": [
      "<class 'pandas.core.frame.DataFrame'>\n",
      "RangeIndex: 137735 entries, 0 to 137734\n",
      "Data columns (total 4 columns):\n",
      " #   Column     Non-Null Count   Dtype         \n",
      "---  ------     --------------   -----         \n",
      " 0   id         137735 non-null  object        \n",
      " 1   user_id    137735 non-null  int64         \n",
      " 2   call_date  137735 non-null  datetime64[ns]\n",
      " 3   duration   137735 non-null  float64       \n",
      "dtypes: datetime64[ns](1), float64(1), int64(1), object(1)\n",
      "memory usage: 4.2+ MB\n",
      "None\n"
     ]
    }
   ],
   "source": [
    "data_1['call_date'] = pd.to_datetime(data_1['call_date']) ##convertir los datos de \"call_date\" a un dato tipo datetime\n",
    "\n",
    "print(data_1.info())"
   ]
  },
  {
   "cell_type": "markdown",
   "metadata": {
    "id": "mOUZSi180q0_"
   },
   "source": [
    "## Mensajes"
   ]
  },
  {
   "cell_type": "code",
   "execution_count": 13,
   "metadata": {
    "id": "R-bYJpdV0q1A"
   },
   "outputs": [
    {
     "name": "stdout",
     "output_type": "stream",
     "text": [
      "<class 'pandas.core.frame.DataFrame'>\n",
      "RangeIndex: 76051 entries, 0 to 76050\n",
      "Data columns (total 3 columns):\n",
      " #   Column        Non-Null Count  Dtype \n",
      "---  ------        --------------  ----- \n",
      " 0   id            76051 non-null  object\n",
      " 1   user_id       76051 non-null  int64 \n",
      " 2   message_date  76051 non-null  object\n",
      "dtypes: int64(1), object(2)\n",
      "memory usage: 1.7+ MB\n",
      "None\n"
     ]
    }
   ],
   "source": [
    "# Imprime la información general/resumida sobre el DataFrame de los mensajes\n",
    "print(data_3.info())\n"
   ]
  },
  {
   "cell_type": "code",
   "execution_count": 14,
   "metadata": {
    "id": "mCEl2iGE0q1A"
   },
   "outputs": [
    {
     "name": "stdout",
     "output_type": "stream",
     "text": [
      "             id  user_id message_date\n",
      "97     1001_179     1001   2018-11-03\n",
      "23107  1139_123     1139   2018-12-22\n",
      "65755   1424_68     1424   2018-11-28\n",
      "6367   1055_485     1055   2018-07-08\n",
      "1239   1011_202     1011   2018-10-06\n",
      "47034  1320_278     1320   2018-06-13\n",
      "11000  1077_271     1077   2018-06-16\n",
      "47806  1324_526     1324   2018-12-20\n",
      "53495   1340_21     1340   2018-11-14\n",
      "20698   1131_37     1131   2018-07-04\n",
      "57130  1362_201     1362   2018-03-19\n",
      "19383   1125_51     1125   2018-12-22\n",
      "1769   1017_121     1017   2018-09-23\n",
      "75926  1494_164     1494   2018-12-26\n",
      "56235  1355_343     1355   2018-12-21\n",
      "35661   1234_40     1234   2018-12-31\n",
      "32865   1204_60     1204   2018-12-19\n",
      "242    1002_131     1002   2018-11-14\n",
      "23435  1142_110     1142   2018-08-24\n",
      "43017  1281_356     1281   2018-11-03\n",
      "591    1006_225     1006   2018-12-10\n",
      "13489   1089_22     1089   2018-12-27\n",
      "73247  1470_875     1470   2018-05-26\n",
      "51897  1335_488     1335   2018-12-06\n",
      "26393  1159_396     1159   2018-09-08\n",
      "59849  1380_340     1380   2018-11-07\n",
      "36859   1247_23     1247   2018-08-27\n",
      "41750  1268_123     1268   2018-08-01\n",
      "40783  1261_452     1261   2018-11-29\n",
      "61019   1384_62     1384   2018-11-02\n"
     ]
    }
   ],
   "source": [
    "# Imprime una muestra de datos para los mensajes\n",
    "\n",
    "muestra_d3 = data_3.sample(n=30)\n",
    "print(muestra_d3)"
   ]
  },
  {
   "cell_type": "markdown",
   "metadata": {
    "id": "04xDj7KH0q1A"
   },
   "source": [
    "Los datos presentados en la columna \"message_date\" se muestran como uno de tipo object y es necesario que este esté en formato datetime para poder extrer información de manera más simple, por lo tanto, se debe cambiar este tipo de dato"
   ]
  },
  {
   "cell_type": "markdown",
   "metadata": {
    "id": "Sprfak900q1B"
   },
   "source": [
    "### Corregir los datos"
   ]
  },
  {
   "cell_type": "markdown",
   "metadata": {
    "id": "eGw7d9j10q1B"
   },
   "source": [
    "[Corrige los problemas obvios con los datos basándote en las observaciones iniciales.]"
   ]
  },
  {
   "cell_type": "code",
   "execution_count": 15,
   "metadata": {
    "id": "vsllvkoa0q1B"
   },
   "outputs": [
    {
     "name": "stdout",
     "output_type": "stream",
     "text": [
      "<class 'pandas.core.frame.DataFrame'>\n",
      "RangeIndex: 76051 entries, 0 to 76050\n",
      "Data columns (total 3 columns):\n",
      " #   Column        Non-Null Count  Dtype         \n",
      "---  ------        --------------  -----         \n",
      " 0   id            76051 non-null  object        \n",
      " 1   user_id       76051 non-null  int64         \n",
      " 2   message_date  76051 non-null  datetime64[ns]\n",
      "dtypes: datetime64[ns](1), int64(1), object(1)\n",
      "memory usage: 1.7+ MB\n",
      "None\n"
     ]
    }
   ],
   "source": [
    "data_3['message_date'] = pd.to_datetime(data_3['message_date']) #convertir los datos de \"message_date\" a un dato tipo datetime\n",
    "\n",
    "print(data_3.info())"
   ]
  },
  {
   "cell_type": "markdown",
   "metadata": {
    "id": "HvLid7iD0q1B"
   },
   "source": [
    "### Enriquecer los datos"
   ]
  },
  {
   "cell_type": "markdown",
   "metadata": {
    "id": "8nhPFKIe0q1C"
   },
   "source": [
    "[Agrega factores adicionales a los datos si crees que pudieran ser útiles.]"
   ]
  },
  {
   "cell_type": "code",
   "execution_count": null,
   "metadata": {
    "id": "zYEXZac10q1C"
   },
   "outputs": [],
   "source": []
  },
  {
   "cell_type": "markdown",
   "metadata": {
    "id": "bStkaxn40q1C"
   },
   "source": [
    "## Internet"
   ]
  },
  {
   "cell_type": "code",
   "execution_count": 16,
   "metadata": {
    "id": "e-Uz5qyn0q1C"
   },
   "outputs": [
    {
     "name": "stdout",
     "output_type": "stream",
     "text": [
      "<class 'pandas.core.frame.DataFrame'>\n",
      "RangeIndex: 104825 entries, 0 to 104824\n",
      "Data columns (total 4 columns):\n",
      " #   Column        Non-Null Count   Dtype  \n",
      "---  ------        --------------   -----  \n",
      " 0   id            104825 non-null  object \n",
      " 1   user_id       104825 non-null  int64  \n",
      " 2   session_date  104825 non-null  object \n",
      " 3   mb_used       104825 non-null  float64\n",
      "dtypes: float64(1), int64(1), object(2)\n",
      "memory usage: 3.2+ MB\n",
      "None\n"
     ]
    }
   ],
   "source": [
    "# Imprime la información general/resumida sobre el DataFrame de internet\n",
    "print(data_2.info())"
   ]
  },
  {
   "cell_type": "code",
   "execution_count": 17,
   "metadata": {
    "id": "9r3x_XLw0q1C"
   },
   "outputs": [
    {
     "name": "stdout",
     "output_type": "stream",
     "text": [
      "              id  user_id session_date  mb_used\n",
      "35623   1160_327     1160   2018-05-12     0.00\n",
      "82269    1385_20     1385   2018-08-08   205.10\n",
      "72518     1337_2     1337   2018-11-20     8.41\n",
      "30199   1138_435     1138   2018-04-16     0.00\n",
      "19379    1088_73     1088   2018-10-02   209.26\n",
      "35696   1160_400     1160   2018-10-09    46.38\n",
      "11428    1056_95     1056   2018-09-17   186.06\n",
      "70385   1328_344     1328   2018-04-28   449.60\n",
      "78155   1364_316     1364   2018-12-24   405.08\n",
      "51162    1231_91     1231   2018-07-08     0.00\n",
      "5795    1031_475     1031   2018-09-28   297.06\n",
      "3478      1020_8     1020   2018-11-13   289.57\n",
      "80581     1377_6     1377   2018-11-24    36.49\n",
      "12936   1061_433     1061   2018-11-17   442.64\n",
      "1126    1007_110     1007   2018-12-13   459.05\n",
      "79713    1372_60     1372   2018-12-28   297.09\n",
      "63381    1292_85     1292   2018-11-07   686.74\n",
      "41051    1185_88     1185   2018-06-21     0.00\n",
      "17436    1079_41     1079   2018-12-20   297.72\n",
      "36454   1164_137     1164   2018-10-25    27.38\n",
      "97412    1459_41     1459   2018-11-26   441.80\n",
      "75798    1357_71     1357   2018-07-27   636.71\n",
      "31695   1144_434     1144   2018-09-08     0.00\n",
      "102374  1490_189     1490   2018-09-24   367.65\n",
      "72187   1336_216     1336   2018-06-21  1003.53\n",
      "98500   1465_466     1465   2018-11-04   404.32\n",
      "26216   1122_171     1122   2018-10-26    71.22\n",
      "70082    1328_41     1328   2018-08-19   286.73\n",
      "100227   1475_20     1475   2018-09-24    55.34\n",
      "100320  1475_113     1475   2018-08-20    99.78\n"
     ]
    }
   ],
   "source": [
    "# Imprime una muestra de datos para el tráfico de internet\n",
    "muestra_d2 = data_2.sample(n=30)\n",
    "print(muestra_d2)"
   ]
  },
  {
   "cell_type": "markdown",
   "metadata": {
    "id": "EzOG5ik30q1D"
   },
   "source": [
    "Se observan valores de mb usados en la sesion igual a cero.Esto no sería útil para el análisis puesto que este conjunto de datos nos permitiría concluir si los usuarios sobrepasan los límites de los MB de navegación que establece cada plan.Por lo tanto, lo más util serí eliminar las filas cuya columna 'mb_used' es 0.00.\n",
    "Por otro lado, la columna 'session_date' contiene los datos como object, por lo que este se debiera cambiar a tipo datetime"
   ]
  },
  {
   "cell_type": "markdown",
   "metadata": {
    "id": "yA0tkPFg0q1D"
   },
   "source": [
    "### Corregir los datos"
   ]
  },
  {
   "cell_type": "markdown",
   "metadata": {
    "id": "zlZMuIEK0q1D"
   },
   "source": [
    "[Corrige los problemas obvios con los datos basándote en las observaciones iniciales.]"
   ]
  },
  {
   "cell_type": "code",
   "execution_count": 18,
   "metadata": {
    "id": "zVeanzdd0q1E"
   },
   "outputs": [
    {
     "name": "stdout",
     "output_type": "stream",
     "text": [
      "<class 'pandas.core.frame.DataFrame'>\n",
      "Int64Index: 91078 entries, 0 to 104824\n",
      "Data columns (total 4 columns):\n",
      " #   Column        Non-Null Count  Dtype  \n",
      "---  ------        --------------  -----  \n",
      " 0   id            91078 non-null  object \n",
      " 1   user_id       91078 non-null  int64  \n",
      " 2   session_date  91078 non-null  object \n",
      " 3   mb_used       91078 non-null  float64\n",
      "dtypes: float64(1), int64(1), object(2)\n",
      "memory usage: 3.5+ MB\n",
      "None\n"
     ]
    }
   ],
   "source": [
    "data_2_cleaned = data_2[data_2['mb_used'] != 0]\n",
    "\n",
    "print(data_2_cleaned.info())"
   ]
  },
  {
   "cell_type": "markdown",
   "metadata": {
    "id": "e8_mLF4a0q1E"
   },
   "source": [
    "### Enriquecer los datos"
   ]
  },
  {
   "cell_type": "markdown",
   "metadata": {
    "id": "xhNdn2tE0q1E"
   },
   "source": [
    "[Agrega factores adicionales a los datos si crees que pudieran ser útiles.]"
   ]
  },
  {
   "cell_type": "code",
   "execution_count": 19,
   "metadata": {
    "id": "ESiYPIEK0q1E"
   },
   "outputs": [
    {
     "name": "stdout",
     "output_type": "stream",
     "text": [
      "<class 'pandas.core.frame.DataFrame'>\n",
      "RangeIndex: 104825 entries, 0 to 104824\n",
      "Data columns (total 4 columns):\n",
      " #   Column        Non-Null Count   Dtype         \n",
      "---  ------        --------------   -----         \n",
      " 0   id            104825 non-null  object        \n",
      " 1   user_id       104825 non-null  int64         \n",
      " 2   session_date  104825 non-null  datetime64[ns]\n",
      " 3   mb_used       104825 non-null  float64       \n",
      "dtypes: datetime64[ns](1), float64(1), int64(1), object(1)\n",
      "memory usage: 3.2+ MB\n",
      "None\n"
     ]
    }
   ],
   "source": [
    "data_2['session_date'] = pd.to_datetime(data_2['session_date']) #convertir los datos de \"session_date\" a un dato tipo datetime\n",
    "\n",
    "print(data_2.info())"
   ]
  },
  {
   "cell_type": "markdown",
   "metadata": {},
   "source": [
    "<div class=\"alert alert-block alert-success\">\n",
    "<b>Comentario del revisor (1ra Iteración)</b> <a class=“tocSkip”></a>\n",
    "\n",
    "Stephania excelente trabajo en el análisis exploratorio de datos, comprobaste los datos duplicados y faltantes proceso que es clave para evitar errores en el estudio de los datos. Además hiciste los ajustes necesarios el los tipo de datos, esto facilitará el desarrollo de las demás etapas del proyecto\n",
    "\n",
    "</div>"
   ]
  },
  {
   "cell_type": "markdown",
   "metadata": {
    "id": "3UA2cqIW0q1E"
   },
   "source": [
    "## Estudiar las condiciones de las tarifas"
   ]
  },
  {
   "cell_type": "markdown",
   "metadata": {
    "id": "T86Sqltq0q1F"
   },
   "source": [
    "[Es sumamente importante entender cómo funcionan las tarifas, cómo se les cobra a los usuarios en función de su plan de suscripción. Así que te sugerimos imprimir la información de la tarifa para ver una vez más sus condiciones.]"
   ]
  },
  {
   "cell_type": "code",
   "execution_count": 20,
   "metadata": {
    "id": "i409op8p0q1F"
   },
   "outputs": [
    {
     "name": "stdout",
     "output_type": "stream",
     "text": [
      "   messages_included  mb_per_month_included  minutes_included  \\\n",
      "0                 50                  15360               500   \n",
      "1               1000                  30720              3000   \n",
      "\n",
      "   usd_monthly_pay  usd_per_gb  usd_per_message  usd_per_minute plan_name  \n",
      "0               20          10             0.03            0.03      surf  \n",
      "1               70           7             0.01            0.01  ultimate  \n"
     ]
    }
   ],
   "source": [
    "# Imprime las condiciones de la tarifa y asegúrate de que te quedan claras\n",
    "print(data_4.head())\n"
   ]
  },
  {
   "cell_type": "markdown",
   "metadata": {
    "id": "hMR1tP5d0q1F"
   },
   "source": [
    "## Agregar datos por usuario\n",
    "\n",
    "[Ahora que los datos están limpios, agrega los datos por usuario y por periodo para que solo haya un registro por usuario y por periodo. Esto facilitará mucho el análisis posterior.]"
   ]
  },
  {
   "cell_type": "code",
   "execution_count": 21,
   "metadata": {
    "id": "A332cedB0q1G"
   },
   "outputs": [
    {
     "name": "stdout",
     "output_type": "stream",
     "text": [
      "      user_id year_month  total_calls\n",
      "1540     1339    2018-10            2\n",
      "1638     1361    2018-09           47\n",
      "230      1054    2018-11           27\n",
      "1746     1384    2018-11           35\n",
      "646      1140    2018-11           46\n",
      "1947     1424    2018-11            7\n",
      "1400     1312    2018-07           55\n",
      "1151     1251    2018-07           88\n",
      "1925     1417    2018-12           94\n",
      "418      1088    2018-11           34\n",
      "974      1210    2018-07           89\n",
      "1356     1299    2018-07           70\n",
      "1191     1258    2018-07            7\n",
      "976      1210    2018-09           38\n",
      "991      1214    2018-01            5\n"
     ]
    }
   ],
   "source": [
    "# Calcula el número de llamadas hechas por cada usuario al mes. Guarda el resultado.\n",
    "#se usan los dataset data_1(calls)\n",
    "\n",
    "data_1['year_month'] = data_1['call_date'].dt.to_period('M') # creo una columna para identificar el mes de cada llamada\n",
    "\n",
    "total_calls_per_user_month = data_1.groupby(['user_id', 'year_month']).size().reset_index(name='total_calls') # Contar el número de llamadas por usuario y mes\n",
    "\n",
    "print(total_calls_per_user_month.sample(n=15)) #se imprime un muestra pra observar datos al azar"
   ]
  },
  {
   "cell_type": "code",
   "execution_count": 22,
   "metadata": {
    "id": "aw2cmuql0q1G"
   },
   "outputs": [
    {
     "name": "stdout",
     "output_type": "stream",
     "text": [
      "      user_id year_month  total_minutes\n",
      "633      1138    2018-07          383.0\n",
      "637      1138    2018-11          354.0\n",
      "269      1061    2018-07          517.0\n",
      "1293     1281    2018-11          697.0\n",
      "1791     1392    2018-11          343.0\n",
      "1905     1414    2018-08            4.0\n",
      "1530     1338    2018-08          353.0\n",
      "1649     1362    2018-08          619.0\n",
      "2161     1476    2018-10          403.0\n",
      "80       1022    2018-10          545.0\n",
      "1123     1246    2018-03          589.0\n",
      "1517     1335    2018-11          552.0\n",
      "721      1155    2018-10          254.0\n",
      "1286     1280    2018-10          555.0\n",
      "734      1157    2018-08          363.0\n"
     ]
    }
   ],
   "source": [
    "# Calcula la cantidad de minutos usados por cada usuario al mes. Guarda el resultado.\n",
    "data_1['year_month'] = data_1['call_date'].dt.to_period('M') # creo una columna para identificar el mes de cada llamada\n",
    "\n",
    "minutes_per_user_month = data_1.groupby(['user_id', 'year_month'])['duration'].sum().reset_index(name='total_minutes') #Calcular el total de minutos hablados por usuario y mes\n",
    "# Aproximar valores de duración hacia arriba\n",
    "minutes_per_user_month['total_minutes'] = np.ceil(minutes_per_user_month['total_minutes'])\n",
    "\n",
    "print(minutes_per_user_month.sample(n=15))"
   ]
  },
  {
   "cell_type": "code",
   "execution_count": 23,
   "metadata": {
    "id": "CcQvNHn60q1G"
   },
   "outputs": [
    {
     "name": "stdout",
     "output_type": "stream",
     "text": [
      "      user_id year_month  total_messages\n",
      "864      1232    2018-10               4\n",
      "1791     1492    2018-10              29\n",
      "347      1099    2018-06              11\n",
      "52       1019    2018-12             128\n",
      "894      1242    2018-10              66\n",
      "457      1127    2018-11              12\n",
      "287      1082    2018-04              15\n",
      "342      1098    2018-12              98\n",
      "1732     1472    2018-09              40\n",
      "124      1044    2018-10              45\n",
      "570      1154    2018-12              83\n",
      "1647     1451    2018-11              60\n",
      "1527     1412    2018-09              48\n",
      "857      1231    2018-10               3\n",
      "535      1144    2018-05              73\n"
     ]
    }
   ],
   "source": [
    "# Calcula el número de mensajes enviados por cada usuario al mes. Guarda el resultado.\n",
    "\n",
    "data_3['year_month'] = data_3['message_date'].dt.to_period('M')\n",
    "\n",
    "messages_per_user_month = data_3.groupby(['user_id', 'year_month']).size().reset_index(name='total_messages')\n",
    "\n",
    "\n",
    "print(messages_per_user_month.sample(n=15))"
   ]
  },
  {
   "cell_type": "code",
   "execution_count": 24,
   "metadata": {
    "id": "H1AqN2eG0q1H"
   },
   "outputs": [
    {
     "name": "stdout",
     "output_type": "stream",
     "text": [
      "      user_id year_month  total_internet\n",
      "1692     1364    2018-12         18300.0\n",
      "1568     1339    2018-10          2622.0\n",
      "1977     1424    2018-12         30372.0\n",
      "340      1073    2018-05         14297.0\n",
      "640      1134    2018-12         24073.0\n",
      "180      1045    2018-11         24872.0\n",
      "1998     1431    2018-11         22611.0\n",
      "239      1055    2018-12         15446.0\n",
      "2049     1441    2018-12         28845.0\n",
      "983      1204    2018-11         21347.0\n",
      "1718     1368    2018-12         19931.0\n",
      "2189     1478    2018-09         19429.0\n",
      "1382     1299    2018-06         18567.0\n",
      "305      1066    2018-10         21232.0\n",
      "1690     1364    2018-10         16002.0\n"
     ]
    }
   ],
   "source": [
    "# Calcula el volumen del tráfico de Internet usado por cada usuario al mes. Guarda el resultado.\n",
    "\n",
    "# Crear una columna para identificar el año y mes de cada sesión\n",
    "data_2['year_month'] = data_2['session_date'].dt.to_period('M')\n",
    "\n",
    "\n",
    "internet_per_user_month = data_2.groupby(['user_id', 'year_month'])['mb_used'].sum().reset_index(name='total_internet')\n",
    "\n",
    "# Aproximar hacia arriba los valores de tráfico de Internet\n",
    "internet_per_user_month['total_internet'] = np.ceil(internet_per_user_month['total_internet'])\n",
    "\n",
    "print(internet_per_user_month.sample(n=15))\n",
    "\n",
    "\n",
    "\n",
    "\n",
    "\n"
   ]
  },
  {
   "cell_type": "markdown",
   "metadata": {
    "id": "VDfYXnj80q1H"
   },
   "source": [
    "[Junta los datos agregados en un DataFrame para que haya un registro que represente lo que consumió un usuario único en un mes determinado.]"
   ]
  },
  {
   "cell_type": "code",
   "execution_count": 25,
   "metadata": {
    "id": "FW99ykyf0q1H"
   },
   "outputs": [
    {
     "name": "stdout",
     "output_type": "stream",
     "text": [
      "      user_id year_month  total_calls  total_minutes  total_messages  \\\n",
      "2126     1468    2018-12         61.0          481.0            39.0   \n",
      "1092     1238    2018-11         52.0          395.0             0.0   \n",
      "1073     1233    2018-10         24.0          126.0             0.0   \n",
      "1667     1365    2018-10        161.0         1164.0            36.0   \n",
      "2286     1349    2018-10          0.0            0.0            76.0   \n",
      "2001     1438    2018-11         42.0          264.0            44.0   \n",
      "2052     1451    2018-10         72.0          486.0            49.0   \n",
      "644      1140    2018-09         97.0          684.0            12.0   \n",
      "1617     1358    2018-07         57.0          348.0             3.0   \n",
      "1047     1226    2018-09         75.0          515.0             0.0   \n",
      "1057     1231    2018-06         57.0          378.0             2.0   \n",
      "1477     1328    2018-07        132.0          851.0           164.0   \n",
      "217      1053    2018-07          3.0           17.0             0.0   \n",
      "1055     1229    2018-12         16.0          100.0           125.0   \n",
      "1687     1368    2018-11         80.0          506.0             0.0   \n",
      "\n",
      "      total_internet  \n",
      "2126         11987.0  \n",
      "1092         22352.0  \n",
      "1073          8921.0  \n",
      "1667          9292.0  \n",
      "2286         13094.0  \n",
      "2001         18410.0  \n",
      "2052         13542.0  \n",
      "644          14412.0  \n",
      "1617         18423.0  \n",
      "1047         22214.0  \n",
      "1057         15343.0  \n",
      "1477         36409.0  \n",
      "217            856.0  \n",
      "1055         20552.0  \n",
      "1687         20010.0  \n"
     ]
    }
   ],
   "source": [
    "# Fusiona los datos de llamadas, minutos, mensajes e Internet con base en user_id y month\n",
    "# Fusionar los datos utilizando `merge` sucesivamente\n",
    "merged_data = pd.merge(total_calls_per_user_month, minutes_per_user_month, on=['user_id', 'year_month'], how='outer')\n",
    "merged_data = pd.merge(merged_data, messages_per_user_month, on=['user_id', 'year_month'], how='outer')\n",
    "merged_data = pd.merge(merged_data, internet_per_user_month, on=['user_id', 'year_month'], how='outer')\n",
    "\n",
    "merged_data.fillna(0, inplace=True) #rellenar datos NaN con ceros\n",
    "print(merged_data.sample(n=15))\n"
   ]
  },
  {
   "cell_type": "markdown",
   "metadata": {},
   "source": [
    "<div class=\"alert alert-block alert-danger\">\n",
    "<b>Comentario del revisor (1ra Iteración)</b> <a class=“tocSkip”></a>\n",
    "    \n",
    "Aunque hiciste una agrupción correcta de los datos usando `groupby` y `merge` debes tener en cuenta que, de acuerdo, con el enunciado del proyecto los valores de duración de las llamadas y el consumo de internet deben ser redondeados hacia arriba, ya que el cobro se hace por minuto y GB completo.\n",
    "    \n",
    "Para esto debes tener en cuenta lo siguiente:\n",
    "    \n",
    "* **Llamadas**: Primero realiza el redondeo hacia arriba para cada llamda y luego si sumas los minutos totales por usuario para cada mes.\n",
    "    \n",
    "* **Internet**: Primero sumas el consumo total en MB por usuario para cada mes, luego conviertes ese valor a **GB** y finalmente realizas el redondeo hacia arriba. \n",
    "    \n",
    "Estos valores finales, los comparas con los minutos y GB incluidos en cada plan para establecer si hubo un exceso y hacer el cobro respectivo.\n",
    "\n",
    "</div>\n",
    "\n",
    "\n",
    "<div class=\"alert alert-block alert-info\">\n",
    "<b>Corrección realizada al momento de calcular minutos totales utilizados y mb de internet utilizados por usuario</b> <a class=“tocSkip”></a>\n",
    "</div>"
   ]
  },
  {
   "cell_type": "code",
   "execution_count": 26,
   "metadata": {
    "id": "0dNOXHag0q1H"
   },
   "outputs": [
    {
     "name": "stdout",
     "output_type": "stream",
     "text": [
      "      user_id year_month  total_calls  total_minutes  total_messages  \\\n",
      "1352     1299    2018-03         43.0          345.0             7.0   \n",
      "1307     1285    2018-12         64.0          482.0            26.0   \n",
      "921      1196    2018-09         72.0          535.0            29.0   \n",
      "498      1107    2018-11         14.0           53.0            19.0   \n",
      "1455     1324    2018-07        134.0          920.0           120.0   \n",
      "182      1046    2018-06         47.0          325.0            20.0   \n",
      "1404     1312    2018-11         47.0          307.0            25.0   \n",
      "1645     1362    2018-04         95.0          606.0            42.0   \n",
      "1856     1405    2018-06         14.0           96.0            24.0   \n",
      "450      1098    2018-08         46.0          312.0            51.0   \n",
      "2133     1470    2018-09         70.0          442.0           130.0   \n",
      "806      1172    2018-09         97.0          599.0           119.0   \n",
      "2017     1440    2018-11        103.0          752.0            36.0   \n",
      "631      1138    2018-05         61.0          357.0            16.0   \n",
      "1654     1363    2018-09         36.0          287.0            27.0   \n",
      "\n",
      "      total_internet plan_name  messages_included  mb_per_month_included  \\\n",
      "1352          4906.0      surf                 50                  15360   \n",
      "1307          3125.0      surf                 50                  15360   \n",
      "921          20114.0  ultimate               1000                  30720   \n",
      "498           5210.0  ultimate               1000                  30720   \n",
      "1455         19784.0      surf                 50                  15360   \n",
      "182          10539.0      surf                 50                  15360   \n",
      "1404         14663.0      surf                 50                  15360   \n",
      "1645         12416.0      surf                 50                  15360   \n",
      "1856          5067.0  ultimate               1000                  30720   \n",
      "450          17687.0      surf                 50                  15360   \n",
      "2133             0.0      surf                 50                  15360   \n",
      "806          32551.0      surf                 50                  15360   \n",
      "2017         15027.0      surf                 50                  15360   \n",
      "631          23060.0      surf                 50                  15360   \n",
      "1654         10328.0  ultimate               1000                  30720   \n",
      "\n",
      "      minutes_included  usd_monthly_pay  usd_per_gb  usd_per_message  \\\n",
      "1352               500               20          10             0.03   \n",
      "1307               500               20          10             0.03   \n",
      "921               3000               70           7             0.01   \n",
      "498               3000               70           7             0.01   \n",
      "1455               500               20          10             0.03   \n",
      "182                500               20          10             0.03   \n",
      "1404               500               20          10             0.03   \n",
      "1645               500               20          10             0.03   \n",
      "1856              3000               70           7             0.01   \n",
      "450                500               20          10             0.03   \n",
      "2133               500               20          10             0.03   \n",
      "806                500               20          10             0.03   \n",
      "2017               500               20          10             0.03   \n",
      "631                500               20          10             0.03   \n",
      "1654              3000               70           7             0.01   \n",
      "\n",
      "      usd_per_minute  \n",
      "1352            0.03  \n",
      "1307            0.03  \n",
      "921             0.01  \n",
      "498             0.01  \n",
      "1455            0.03  \n",
      "182             0.03  \n",
      "1404            0.03  \n",
      "1645            0.03  \n",
      "1856            0.01  \n",
      "450             0.03  \n",
      "2133            0.03  \n",
      "806             0.03  \n",
      "2017            0.03  \n",
      "631             0.03  \n",
      "1654            0.01  \n"
     ]
    }
   ],
   "source": [
    "# Añade la información de la tarifa\n",
    "\n",
    "# Paso 1: Unir merged_data con data_5 utilizando user_id\n",
    "merged_data_with_plans = pd.merge(merged_data, data_5[['user_id', 'plan_name']], on='user_id', how='left')\n",
    "\n",
    "# Paso 2: Unir el resultado anterior con data_4 utilizando plan_name\n",
    "final_result = pd.merge(merged_data_with_plans, data_4, on='plan_name', how='left')\n",
    "\n",
    "# Mostrar resultado final\n",
    "print(final_result.sample(n=15))\n"
   ]
  },
  {
   "cell_type": "markdown",
   "metadata": {
    "id": "1IwGo4wg0q1I"
   },
   "source": [
    "[Calcula los ingresos mensuales por usuario (resta el límite del paquete gratuito del número total de llamadas, mensajes de texto y datos; multiplica el resultado por el valor del plan de llamadas; añade la tarifa mensual en función del plan de llamadas). Nota: Dadas las condiciones del plan, ¡esto podría no ser tan trivial como un par de líneas! Así que no pasa nada si dedicas algo de tiempo a ello.]"
   ]
  },
  {
   "cell_type": "code",
   "execution_count": 27,
   "metadata": {
    "id": "5FGCf_c60q1I"
   },
   "outputs": [
    {
     "name": "stdout",
     "output_type": "stream",
     "text": [
      "      user_id year_month  monthly_income\n",
      "1640     1361    2018-11       68.144531\n",
      "967      1208    2018-12       27.763672\n",
      "436      1095    2018-05       20.000000\n",
      "720      1155    2018-09       70.000000\n",
      "732      1156    2018-12       40.771484\n",
      "1426     1318    2018-09       20.000000\n",
      "1476     1328    2018-06      105.174844\n",
      "2077     1458    2018-10       70.000000\n",
      "374      1079    2018-07       20.000000\n",
      "807      1172    2018-10      214.579062\n",
      "1691     1370    2018-09       70.000000\n",
      "2065     1455    2018-12       20.000000\n",
      "1589     1353    2018-06       20.000000\n",
      "1737     1382    2018-12       70.000000\n",
      "1146     1250    2018-12       70.000000\n"
     ]
    }
   ],
   "source": [
    "# Calcula el ingreso mensual para cada usuario\n",
    "# Calcular los ingresos por usuario y mes\n",
    "\n",
    "# Calcular ingresos mensuales\n",
    "def calculate_monthly_income(row):\n",
    "    # Calcular excedentes\n",
    "    call_exceed = max(0, row['total_calls'] - row['minutes_included'])\n",
    "    message_exceed = max(0, row['total_messages'] - row['messages_included'])\n",
    "    data_exceed = max(0, (row['total_internet'] / 1024) - (row['mb_per_month_included'] / 1024))  # Convertir MB a GB\n",
    "    \n",
    "    # Calcular ingresos de excedentes\n",
    "    income = (call_exceed * row['usd_per_minute']) + \\\n",
    "             (message_exceed * row['usd_per_message']) + \\\n",
    "             (data_exceed * row['usd_per_gb'])\n",
    "    \n",
    "    # Añadir tarifa mensual\n",
    "    total_income = income + row['usd_monthly_pay']\n",
    "    return total_income\n",
    "\n",
    "# Aplicar la función para calcular el ingreso mensual por usuario\n",
    "final_result['monthly_income'] = final_result.apply(calculate_monthly_income, axis=1)\n",
    "\n",
    "# Mostrar resultados con ingresos\n",
    "print(final_result[['user_id', 'year_month', 'monthly_income']].sample(n=15)) #se imprime una muestra del data frame final"
   ]
  },
  {
   "cell_type": "markdown",
   "metadata": {},
   "source": [
    "<div class=\"alert alert-block alert-warning\">\n",
    "<b>Comentario del revisor (1ra Iteración)</b> <a class=“tocSkip”></a>\n",
    "    \n",
    "La lógica de cálculo del cobro mensual es correcta solo debes hacer los ajustes de redonde que te mencioné más arriba. Ten muy en cuenta el plan que tiene cada usuario, cuánto vale el plan base y los cobros por los consumos extras.\n",
    "\n",
    "</div>"
   ]
  },
  {
   "cell_type": "code",
   "execution_count": 37,
   "metadata": {},
   "outputs": [
    {
     "data": {
      "text/html": [
       "<div>\n",
       "<style scoped>\n",
       "    .dataframe tbody tr th:only-of-type {\n",
       "        vertical-align: middle;\n",
       "    }\n",
       "\n",
       "    .dataframe tbody tr th {\n",
       "        vertical-align: top;\n",
       "    }\n",
       "\n",
       "    .dataframe thead th {\n",
       "        text-align: right;\n",
       "    }\n",
       "</style>\n",
       "<table border=\"1\" class=\"dataframe\">\n",
       "  <thead>\n",
       "    <tr style=\"text-align: right;\">\n",
       "      <th></th>\n",
       "      <th>user_id</th>\n",
       "      <th>year_month</th>\n",
       "      <th>total_calls</th>\n",
       "      <th>total_minutes</th>\n",
       "      <th>total_messages</th>\n",
       "      <th>total_internet</th>\n",
       "      <th>plan_name</th>\n",
       "      <th>messages_included</th>\n",
       "      <th>mb_per_month_included</th>\n",
       "      <th>minutes_included</th>\n",
       "      <th>usd_monthly_pay</th>\n",
       "      <th>usd_per_gb</th>\n",
       "      <th>usd_per_message</th>\n",
       "      <th>usd_per_minute</th>\n",
       "      <th>monthly_income</th>\n",
       "      <th>city</th>\n",
       "    </tr>\n",
       "  </thead>\n",
       "  <tbody>\n",
       "    <tr>\n",
       "      <th>1</th>\n",
       "      <td>1001</td>\n",
       "      <td>2018-08</td>\n",
       "      <td>27.0</td>\n",
       "      <td>172.0</td>\n",
       "      <td>30.0</td>\n",
       "      <td>6920.0</td>\n",
       "      <td>surf</td>\n",
       "      <td>50</td>\n",
       "      <td>15360</td>\n",
       "      <td>500</td>\n",
       "      <td>20</td>\n",
       "      <td>10</td>\n",
       "      <td>0.03</td>\n",
       "      <td>0.03</td>\n",
       "      <td>20.000000</td>\n",
       "      <td>Seattle-Tacoma-Bellevue, WA MSA</td>\n",
       "    </tr>\n",
       "    <tr>\n",
       "      <th>2</th>\n",
       "      <td>1001</td>\n",
       "      <td>2018-09</td>\n",
       "      <td>49.0</td>\n",
       "      <td>298.0</td>\n",
       "      <td>44.0</td>\n",
       "      <td>13315.0</td>\n",
       "      <td>surf</td>\n",
       "      <td>50</td>\n",
       "      <td>15360</td>\n",
       "      <td>500</td>\n",
       "      <td>20</td>\n",
       "      <td>10</td>\n",
       "      <td>0.03</td>\n",
       "      <td>0.03</td>\n",
       "      <td>20.000000</td>\n",
       "      <td>Seattle-Tacoma-Bellevue, WA MSA</td>\n",
       "    </tr>\n",
       "    <tr>\n",
       "      <th>3</th>\n",
       "      <td>1001</td>\n",
       "      <td>2018-10</td>\n",
       "      <td>65.0</td>\n",
       "      <td>375.0</td>\n",
       "      <td>53.0</td>\n",
       "      <td>22331.0</td>\n",
       "      <td>surf</td>\n",
       "      <td>50</td>\n",
       "      <td>15360</td>\n",
       "      <td>500</td>\n",
       "      <td>20</td>\n",
       "      <td>10</td>\n",
       "      <td>0.03</td>\n",
       "      <td>0.03</td>\n",
       "      <td>88.166172</td>\n",
       "      <td>Seattle-Tacoma-Bellevue, WA MSA</td>\n",
       "    </tr>\n",
       "    <tr>\n",
       "      <th>4</th>\n",
       "      <td>1001</td>\n",
       "      <td>2018-11</td>\n",
       "      <td>64.0</td>\n",
       "      <td>405.0</td>\n",
       "      <td>36.0</td>\n",
       "      <td>18505.0</td>\n",
       "      <td>surf</td>\n",
       "      <td>50</td>\n",
       "      <td>15360</td>\n",
       "      <td>500</td>\n",
       "      <td>20</td>\n",
       "      <td>10</td>\n",
       "      <td>0.03</td>\n",
       "      <td>0.03</td>\n",
       "      <td>50.712891</td>\n",
       "      <td>Seattle-Tacoma-Bellevue, WA MSA</td>\n",
       "    </tr>\n",
       "    <tr>\n",
       "      <th>5</th>\n",
       "      <td>1001</td>\n",
       "      <td>2018-12</td>\n",
       "      <td>56.0</td>\n",
       "      <td>393.0</td>\n",
       "      <td>44.0</td>\n",
       "      <td>19370.0</td>\n",
       "      <td>surf</td>\n",
       "      <td>50</td>\n",
       "      <td>15360</td>\n",
       "      <td>500</td>\n",
       "      <td>20</td>\n",
       "      <td>10</td>\n",
       "      <td>0.03</td>\n",
       "      <td>0.03</td>\n",
       "      <td>59.160156</td>\n",
       "      <td>Seattle-Tacoma-Bellevue, WA MSA</td>\n",
       "    </tr>\n",
       "  </tbody>\n",
       "</table>\n",
       "</div>"
      ],
      "text/plain": [
       "   user_id year_month  total_calls  total_minutes  total_messages  \\\n",
       "1     1001    2018-08         27.0          172.0            30.0   \n",
       "2     1001    2018-09         49.0          298.0            44.0   \n",
       "3     1001    2018-10         65.0          375.0            53.0   \n",
       "4     1001    2018-11         64.0          405.0            36.0   \n",
       "5     1001    2018-12         56.0          393.0            44.0   \n",
       "\n",
       "   total_internet plan_name  messages_included  mb_per_month_included  \\\n",
       "1          6920.0      surf                 50                  15360   \n",
       "2         13315.0      surf                 50                  15360   \n",
       "3         22331.0      surf                 50                  15360   \n",
       "4         18505.0      surf                 50                  15360   \n",
       "5         19370.0      surf                 50                  15360   \n",
       "\n",
       "   minutes_included  usd_monthly_pay  usd_per_gb  usd_per_message  \\\n",
       "1               500               20          10             0.03   \n",
       "2               500               20          10             0.03   \n",
       "3               500               20          10             0.03   \n",
       "4               500               20          10             0.03   \n",
       "5               500               20          10             0.03   \n",
       "\n",
       "   usd_per_minute  monthly_income                             city  \n",
       "1            0.03       20.000000  Seattle-Tacoma-Bellevue, WA MSA  \n",
       "2            0.03       20.000000  Seattle-Tacoma-Bellevue, WA MSA  \n",
       "3            0.03       88.166172  Seattle-Tacoma-Bellevue, WA MSA  \n",
       "4            0.03       50.712891  Seattle-Tacoma-Bellevue, WA MSA  \n",
       "5            0.03       59.160156  Seattle-Tacoma-Bellevue, WA MSA  "
      ]
     },
     "execution_count": 37,
     "metadata": {},
     "output_type": "execute_result"
    }
   ],
   "source": [
    "final_result[final_result[\"user_id\"]==1001]"
   ]
  },
  {
   "cell_type": "markdown",
   "metadata": {
    "id": "-jtyHzJb0q1I"
   },
   "source": [
    "## Estudia el comportamiento de usuario"
   ]
  },
  {
   "cell_type": "markdown",
   "metadata": {
    "id": "AxU3Y0N70q1J"
   },
   "source": [
    "[Calcula algunas estadísticas descriptivas para los datos agregados y fusionados que nos sean útiles y que muestren un panorama general captado por los datos. Dibuja gráficos útiles para facilitar la comprensión. Dado que la tarea principal es comparar las tarifas y decidir cuál es más rentable, las estadísticas y gráficas deben calcularse por tarifa.]\n",
    "\n",
    "[En los comentarios hallarás pistas relevantes para las llamadas, pero no las hay para los mensajes e Internet. Sin embargo, el principio del estudio estadístico que se aplica para ellos es el mismo que para las llamadas.]"
   ]
  },
  {
   "cell_type": "markdown",
   "metadata": {
    "id": "vtW4CJEe0q1J"
   },
   "source": [
    "### Llamadas"
   ]
  },
  {
   "cell_type": "code",
   "execution_count": 28,
   "metadata": {
    "id": "Jf5v5--k0q1J"
   },
   "outputs": [
    {
     "name": "stdout",
     "output_type": "stream",
     "text": [
      "   plan_name year_month  total_minutes\n",
      "0       surf    2018-01     193.000000\n",
      "1       surf    2018-02     281.333333\n",
      "2       surf    2018-03     311.434783\n",
      "3       surf    2018-04     332.920000\n",
      "4       surf    2018-05     377.532468\n",
      "5       surf    2018-06     407.690722\n",
      "6       surf    2018-07     425.000000\n",
      "7       surf    2018-08     387.660494\n",
      "8       surf    2018-09     391.453608\n",
      "9       surf    2018-10     406.202532\n",
      "10      surf    2018-11     400.067138\n",
      "11      surf    2018-12     447.984277\n",
      "12  ultimate    2018-01     183.750000\n",
      "13  ultimate    2018-02     380.428571\n",
      "14  ultimate    2018-03     286.166667\n",
      "15  ultimate    2018-04     317.095238\n",
      "16  ultimate    2018-05     384.206897\n",
      "17  ultimate    2018-06     350.361702\n",
      "18  ultimate    2018-07     404.271186\n",
      "19  ultimate    2018-08     397.788732\n",
      "20  ultimate    2018-09     413.779070\n",
      "21  ultimate    2018-10     425.698113\n",
      "22  ultimate    2018-11     420.944882\n",
      "23  ultimate    2018-12     433.549669\n"
     ]
    },
    {
     "data": {
      "image/png": "[encoded data removed]",
      "text/plain": [
       "<Figure size 1200x600 with 1 Axes>"
      ]
     },
     "metadata": {},
     "output_type": "display_data"
    }
   ],
   "source": [
    "# Compara la duración promedio de llamadas por cada plan y por cada mes. Traza un gráfico de barras para visualizarla.\n",
    "import matplotlib.pyplot as plt\n",
    "import seaborn as sns\n",
    "\n",
    "\n",
    "average_duration = final_result.groupby(['plan_name', 'year_month'])['total_minutes'].mean().reset_index()\n",
    "\n",
    "print(average_duration)\n",
    "\n",
    "plt.figure(figsize=(12, 6))\n",
    "sns.barplot(data=average_duration, x='year_month', y='total_minutes', hue='plan_name', ci=None)\n",
    "\n",
    "# Personalizar el gráfico\n",
    "plt.title('Duración Promedio de Llamadas por Plan y Mes')\n",
    "plt.xlabel('Mes')\n",
    "plt.ylabel('Duración Promedio de Llamadas (Minutos)')\n",
    "plt.legend(title='Plan:')\n",
    "plt.xticks(rotation=45)  # Rotar etiquetas del eje x para mejor visualización\n",
    "plt.tight_layout()        # Ajustar layout para que no se corten etiquetas\n",
    "\n",
    "# Mostrar el gráfico\n",
    "plt.show()\n"
   ]
  },
  {
   "cell_type": "code",
   "execution_count": 29,
   "metadata": {
    "id": "QoLqW1S_0q1J"
   },
   "outputs": [
    {
     "data": {
      "image/png": "[encoded data removed]",
      "text/plain": [
       "<Figure size 1200x600 with 1 Axes>"
      ]
     },
     "metadata": {},
     "output_type": "display_data"
    }
   ],
   "source": [
    "# Compara el número de minutos mensuales que necesitan los usuarios de cada plan. Traza un histograma.\n",
    "\n",
    "\n",
    "plt.figure(figsize=(12, 6))\n",
    "sns.histplot(data=final_result, x='total_minutes', bins=30, kde=True, hue='plan_name', palette=\"Set2\")\n",
    "\n",
    "# Personalizar el gráfico\n",
    "plt.title('Histograma de Minutos Mensuales por Plan')\n",
    "plt.xlabel('Minutos Totales Mensuales')\n",
    "plt.ylabel('Frecuencia')\n",
    "plt.axvline(final_result['total_minutes'].mean(), color='red', linestyle='--', label='Media de Minutos')\n",
    "plt.legend(title='Plan:')\n",
    "\n",
    "# Mostrar el histograma\n",
    "plt.tight_layout()\n",
    "plt.show()\n",
    "\n",
    "\n"
   ]
  },
  {
   "cell_type": "markdown",
   "metadata": {
    "id": "bLS9T8OH0q1K"
   },
   "source": [
    "[Calcula la media y la variable de la duración de las llamadas para averiguar si los usuarios de los distintos planes se comportan de forma diferente al realizar sus llamadas.]"
   ]
  },
  {
   "cell_type": "code",
   "execution_count": 30,
   "metadata": {
    "id": "oSndbAnt0q1K"
   },
   "outputs": [
    {
     "name": "stdout",
     "output_type": "stream",
     "text": [
      "Media de la duración mensual de llamadas: 405.71 minutos\n",
      "Varianza de la duración mensual de llamadas: 49909.66 minutos^2\n"
     ]
    }
   ],
   "source": [
    "# Calcula la media y la varianza de la duración mensual de llamadas.\n",
    "\n",
    "summary_stats = final_result['total_minutes'].agg(['mean', 'var'])\n",
    "\n",
    "print(f\"Media de la duración mensual de llamadas: {summary_stats['mean']:.2f} minutos\")\n",
    "print(f\"Varianza de la duración mensual de llamadas: {summary_stats['var']:.2f} minutos^2\")\n"
   ]
  },
  {
   "cell_type": "code",
   "execution_count": 31,
   "metadata": {
    "id": "nZzoRUKc0q1K"
   },
   "outputs": [
    {
     "data": {
      "image/png": "[encoded data removed]",
      "text/plain": [
       "<Figure size 1200x600 with 1 Axes>"
      ]
     },
     "metadata": {},
     "output_type": "display_data"
    }
   ],
   "source": [
    "# Traza un diagrama de caja para visualizar la distribución de la duración mensual de llamadas\n",
    "\n",
    "plt.figure(figsize=(12, 6))\n",
    "sns.boxplot(data=final_result, y='total_minutes', x='year_month', hue='plan_name', palette=\"Set3\")\n",
    "\n",
    "\n",
    "plt.title('Diagrama de Caja de la Duración Mensual de Llamadas por Plan y Mes')\n",
    "plt.xlabel('Mes')\n",
    "plt.ylabel('Duración Mensual de Llamadas (Minutos)')\n",
    "plt.legend(title='Plan:')\n",
    "plt.xticks(rotation=45) \n",
    "plt.tight_layout()\n",
    "\n",
    "# Mostrar el gráfico\n",
    "plt.show()\n"
   ]
  },
  {
   "cell_type": "markdown",
   "metadata": {
    "id": "r627zBO50q1K"
   },
   "source": [
    "Se observa primero que los usuarios del plan surf utilizan más minutos de llamadas entre enero y Julio, exceptuando el mes de febrero, donde son los ususrios del plan Ultimate los que utilizan más minutos de llamadas.\n",
    "Respecto a la media y varianza de duracion de las llamada, los datos indican que los usuarios en promedio utilizan 405.21 minutos de llamadas al mes, lo que sugiere un uso moderado en general pues este valor se encuentra por debajo de lo que tienen disponibles los usuarios del plan Surf . Sin embargo, la alta varianza de 49900.20 minutos² sugiere que hay una amplia gama de comportamientos entre los usuarios, con algunos utilizando el servicio de manera mucho más intensa. Este comportamiento se observa también en el diagrama de caja, donde se muestran valores atípicos que suelen estar sobre los 1000 minutos entre los meses de noviembre y diciembre principalmente\n",
    "Esto resalta la oportunidad de revisar los planes existentes y adaptar las estrategias de marketing para diferentes segmentos de usuario y en diferentes épocas del año también."
   ]
  },
  {
   "cell_type": "markdown",
   "metadata": {
    "id": "8idKy8Wh0q1L"
   },
   "source": [
    "### Mensajes"
   ]
  },
  {
   "cell_type": "code",
   "execution_count": 32,
   "metadata": {
    "id": "NXLxiTit0q1L"
   },
   "outputs": [
    {
     "name": "stdout",
     "output_type": "stream",
     "text": [
      "   plan_name year_month  total_messages\n",
      "0       surf    2018-01            21.0\n",
      "1       surf    2018-02           108.0\n",
      "2       surf    2018-03           351.0\n",
      "3       surf    2018-04           870.0\n",
      "4       surf    2018-05          1849.0\n",
      "5       surf    2018-06          2454.0\n",
      "6       surf    2018-07          3271.0\n",
      "7       surf    2018-08          4662.0\n",
      "8       surf    2018-09          5968.0\n",
      "9       surf    2018-10          8020.0\n",
      "10      surf    2018-11          9165.0\n",
      "11      surf    2018-12         12275.0\n",
      "12  ultimate    2018-01            62.0\n",
      "13  ultimate    2018-02           151.0\n",
      "14  ultimate    2018-03           243.0\n",
      "15  ultimate    2018-04           463.0\n",
      "16  ultimate    2018-05           931.0\n",
      "17  ultimate    2018-06          1379.0\n",
      "18  ultimate    2018-07          1937.0\n",
      "19  ultimate    2018-08          2732.0\n",
      "20  ultimate    2018-09          3259.0\n",
      "21  ultimate    2018-10          4181.0\n",
      "22  ultimate    2018-11          4903.0\n",
      "23  ultimate    2018-12          6796.0\n"
     ]
    },
    {
     "data": {
      "image/png": "[encoded data removed]",
      "text/plain": [
       "<Figure size 1200x600 with 1 Axes>"
      ]
     },
     "metadata": {},
     "output_type": "display_data"
    }
   ],
   "source": [
    "# Comprara el número de mensajes que tienden a enviar cada mes los usuarios de cada plan\n",
    "\n",
    "\n",
    "messages_per_plan_month = final_result.groupby(['plan_name', 'year_month'])['total_messages'].sum().reset_index()\n",
    "print(messages_per_plan_month)\n",
    "\n",
    "\n",
    "plt.figure(figsize=(12, 6))\n",
    "sns.barplot(data=messages_per_plan_month, x='year_month', y='total_messages', hue='plan_name', palette=\"Set2\")\n",
    "\n",
    "# Personalizar el gráfico\n",
    "plt.title('Número de Mensajes Enviados por Plan y Mes')\n",
    "plt.xlabel('Mes')\n",
    "plt.ylabel('Total de Mensajes')\n",
    "plt.legend(title='Plan:')\n",
    "plt.xticks(rotation=45) \n",
    "plt.tight_layout()\n",
    "\n",
    "# Mostrar el gráfico\n",
    "plt.show()"
   ]
  },
  {
   "cell_type": "markdown",
   "metadata": {
    "id": "390SSL480q1M"
   },
   "source": [
    "La cantidad de mensajes enviados por los usuario que tienen el plan surf se observan mayores que aquellos que tienen el plan Ultimate, por lo tanto, comportamiento de estos si es varible dependiendo del plan que contrata.Cabe decir que esta diferenci se hace mayor a medida que pasn los meses: en los primero tres meses la diferencia no era tan notoria pero si observamos los ultimos tres meses, se podrán detectar notorias diferencias entre la cantidad de mensajes enviados dependiendo del plan contratado."
   ]
  },
  {
   "cell_type": "markdown",
   "metadata": {
    "id": "42YSypXz0q1M"
   },
   "source": [
    "### Internet"
   ]
  },
  {
   "cell_type": "code",
   "execution_count": 33,
   "metadata": {
    "id": "lSuKPtjh0q1M"
   },
   "outputs": [
    {
     "name": "stdout",
     "output_type": "stream",
     "text": [
      "  plan_name  total_internet\n",
      "0      surf      26046956.0\n",
      "1  ultimate      12394946.0\n"
     ]
    },
    {
     "data": {
      "image/png": "[encoded data removed]",
      "text/plain": [
       "<Figure size 1000x600 with 1 Axes>"
      ]
     },
     "metadata": {},
     "output_type": "display_data"
    }
   ],
   "source": [
    "# Compara la cantidad de tráfico de Internet consumido por usuarios por plan\n",
    "\n",
    "internet_per_plan = final_result.groupby('plan_name')['total_internet'].sum().reset_index()\n",
    "print(internet_per_plan)\n",
    "\n",
    "plt.figure(figsize=(10, 6))\n",
    "sns.barplot(data=internet_per_plan, x='plan_name', y='total_internet', palette=\"Set1\")\n",
    "\n",
    "# Personalizar el gráfico\n",
    "plt.title('Total de Tráfico de Internet Consumido por Plan')\n",
    "plt.xlabel('Plan')\n",
    "plt.ylabel('Total de Tráfico de Internet (MB)')\n",
    "plt.tight_layout()\n",
    "\n",
    "# Mostrar el gráfico\n",
    "plt.show()"
   ]
  },
  {
   "cell_type": "markdown",
   "metadata": {
    "id": "UN9zwuMP0q1N"
   },
   "source": [
    "[Elabora las conclusiones sobre cómo los usuarios tienden a consumir el tráfico de Internet. ¿Su comportamiento varía en función del plan?]\n",
    "El consumo de los MB de navegacion de los usuario que tienen el plan surf es más del doble de aquellos que tienen el plan Ultimte, por lo tanto, comportamiento de estos si es varible dependiendo del plan que contrata."
   ]
  },
  {
   "cell_type": "markdown",
   "metadata": {
    "id": "tCijq3260q1N"
   },
   "source": [
    "## Ingreso"
   ]
  },
  {
   "cell_type": "markdown",
   "metadata": {
    "id": "9nq5IAcy0q1O"
   },
   "source": [
    "[Del mismo modo que has estudiado el comportamiento de los usuarios, describe estadísticamente los ingresos de los planes.]"
   ]
  },
  {
   "cell_type": "code",
   "execution_count": 34,
   "metadata": {
    "id": "tz-dq_V00q1O"
   },
   "outputs": [
    {
     "name": "stdout",
     "output_type": "stream",
     "text": [
      "                mean          var   min         max  count  total_income\n",
      "plan_name                                                               \n",
      "surf       55.831837  2811.113496  20.0  564.975312   1573  87823.478828\n",
      "ultimate   72.116292   115.983905  70.0  178.527344    720  51923.730469\n"
     ]
    }
   ],
   "source": [
    "#Calcular ingresos totales por plan\n",
    "income_per_plan = final_result.groupby('plan_name')['monthly_income'].sum().reset_index()\n",
    "\n",
    "#Calcular estadísticas descriptivas\n",
    "statistics = final_result.groupby('plan_name')['monthly_income'].agg(['mean', 'var', 'min', 'max', 'count'])\n",
    "\n",
    "# Añadir ingresos totales a las estadísticas\n",
    "statistics['total_income'] = income_per_plan.set_index('plan_name')['monthly_income']\n",
    "\n",
    "# Imprimir los resultados\n",
    "print(statistics)"
   ]
  },
  {
   "cell_type": "markdown",
   "metadata": {
    "id": "KAFidcXZ0q1P"
   },
   "source": [
    "\n",
    "Respecto al plan SUR,la media es de de 55.83 indica que, en promedio, cada usuario del plan Surf genera aproximadamente 55.83 dólares mensuales. Este ingreso es relativamente bajo en comparación con el plan Ultimate.\n",
    "La varianza de 2810.97 es bastante alta, lo que indica una gran dispersión en los ingresos por usuario. Esto sugiere que mientras algunos usuarios de este plan generan ingresos relativamente bajos, otros pueden estar utilizando el servicio a un nivel mucho más alto, lo que ocasiona ingresos significativamente mayores.\n",
    "El rango de ingresos para los usuarios de este plan va desde 20.00 dólares hasta 564.97 dólares, señalando que algunos usuarios utilizan el servicio muy poco mientras que otros lo utilizan mucho más intensamente.\n",
    "\n",
    "Respecto al plan Ultimate y su media de 72.12 sugiere que los usuarios de este plan tienen un mayor ingreso mensual. Esto podría ser el resultado de un mayor uso del servicio, en línea con el costo más alto del plan.\n",
    "La varianza de 115.97 es mucho menor, lo que sugiere que los ingresos por usuario son más consistentes y predecibles en este plan.\n",
    "Aquí los ingresos oscilan entre 70.00 dólares y 178.52 dólares, lo que indica una mayor homogeneidad en el uso del servicio."
   ]
  },
  {
   "cell_type": "markdown",
   "metadata": {},
   "source": [
    "<div class=\"alert alert-block alert-success\">\n",
    "<b>Comentario del revisor (1ra Iteración)</b> <a class=“tocSkip”></a>\n",
    "\n",
    "Excelente selección de los tipos de gráficos para mostrar los datos. Adicionalmente, calculaste la información estadística de los datos. Esto te permitió realizar análisis detallados y claros sobre la información de consumo de los usuarios.\n",
    "    \n",
    "<div class=\"alert alert-block alert-warning\">\n",
    "<b>Comentario del revisor (1ra Iteración)</b> <a class=“tocSkip”></a>\n",
    "\n",
    "   \n",
    "Con respecto a la información de **Ingresos**, ésta la puedes complementar también con gráficas, y debes tener en cuenta que los valores cambiaran con base en los cambios en el cálculo de cobro mensual que te sugería más arriba.\n",
    "\n",
    "</div>\n",
    "\n",
    "\n",
    "</div>"
   ]
  },
  {
   "cell_type": "markdown",
   "metadata": {
    "id": "ajJ7VKeI0q1Q"
   },
   "source": [
    "## Prueba las hipótesis estadísticas"
   ]
  },
  {
   "cell_type": "markdown",
   "metadata": {
    "id": "AdXAZ-yL0q1Q"
   },
   "source": [
    "[Prueba la hipótesis de que son diferentes los ingresos promedio procedentes de los usuarios de los planes de llamada Ultimate y Surf.]"
   ]
  },
  {
   "cell_type": "markdown",
   "metadata": {
    "id": "IQwa_hsh0q1Q"
   },
   "source": [
    "[Elabora las hipótesis nula y alternativa, escoge la prueba estadística, determina el valor alfa.]"
   ]
  },
  {
   "cell_type": "code",
   "execution_count": 35,
   "metadata": {
    "id": "nFoPNlPq0q1R"
   },
   "outputs": [
    {
     "name": "stdout",
     "output_type": "stream",
     "text": [
      "T-statistic: 11.67\n",
      "P-value: 0.00000\n",
      "Rechazamos la hipótesis nula: hay una diferencia significativa en los ingresos promedio.\n"
     ]
    }
   ],
   "source": [
    "from scipy import stats\n",
    "# Prueba las hipótesis\n",
    "\n",
    "ultimate_income = final_result[final_result['plan_name'] == 'ultimate']['monthly_income']\n",
    "surf_income = final_result[final_result['plan_name'] == 'surf']['monthly_income']\n",
    "\n",
    "# Realizar prueba t\n",
    "t_statistic, p_value = stats.ttest_ind(ultimate_income, surf_income, equal_var=False)\n",
    "\n",
    "alpha = 0.05\n",
    "\n",
    "# Imprimir resultados\n",
    "print(f\"T-statistic: {t_statistic:.2f}\")\n",
    "print(f\"P-value: {p_value:.5f}\")\n",
    "\n",
    "# Comparar el p-valor con alpha\n",
    "if p_value < alpha:\n",
    "    print(\"Rechazamos la hipótesis nula: hay una diferencia significativa en los ingresos promedio.\")\n",
    "else:\n",
    "    print(\"No rechazamos la hipótesis nula: no hay una diferencia significativa en los ingresos promedio.\")\n"
   ]
  },
  {
   "cell_type": "markdown",
   "metadata": {
    "id": "tCcAruM60q1R"
   },
   "source": [
    "[Prueba la hipótesis de que el ingreso promedio de los usuarios del área NY-NJ es diferente al de los usuarios de otras regiones.]"
   ]
  },
  {
   "cell_type": "markdown",
   "metadata": {
    "id": "LsBgitqj0q1R"
   },
   "source": [
    "[Elabora las hipótesis nula y alternativa, escoge la prueba estadística, determina el valor alfa.]"
   ]
  },
  {
   "cell_type": "code",
   "execution_count": 36,
   "metadata": {
    "id": "Cqcj7wrZ0q1S"
   },
   "outputs": [
    {
     "name": "stdout",
     "output_type": "stream",
     "text": [
      "T-statistic: -1.69\n",
      "P-value: 0.09049\n",
      "No rechazamos la hipótesis nula: no hay una diferencia significativa en los ingresos promedio.\n"
     ]
    }
   ],
   "source": [
    "# Prueba las hipótesis\n",
    "\n",
    "\n",
    "final_result = pd.merge(final_result, data_5[['user_id', 'city']], on='user_id', how='left')\n",
    "\n",
    "ny_nj_income = final_result[final_result['city'].str.contains('NY|NJ')]['monthly_income']\n",
    "other_regions_income = final_result[~final_result['city'].str.contains('NY|NJ')]['monthly_income']\n",
    "\n",
    "# Realizar prueba t\n",
    "t_statistic, p_value = stats.ttest_ind(ny_nj_income, other_regions_income, equal_var=False)\n",
    "alpha = 0.05\n",
    "\n",
    "# Imprimir resultados\n",
    "print(f\"T-statistic: {t_statistic:.2f}\")\n",
    "print(f\"P-value: {p_value:.5f}\")\n",
    "\n",
    "# Comparar el p-valor con alpha\n",
    "if p_value < alpha:\n",
    "    print(\"Rechazamos la hipótesis nula: hay una diferencia significativa en los ingresos promedio.\")\n",
    "else:\n",
    "    print(\"No rechazamos la hipótesis nula: no hay una diferencia significativa en los ingresos promedio.\")"
   ]
  },
  {
   "cell_type": "markdown",
   "metadata": {},
   "source": [
    "<div class=\"alert alert-block alert-success\">\n",
    "<b>Comentario del revisor (1ra Iteración)</b> <a class=“tocSkip”></a>\n",
    "\n",
    "Stephania has implementado de manera correcta las pruebas de hipótesis, haciendo comparaciones estadísticas entre conjuntos de datos de manera acertada,\n",
    "\n",
    "</div>"
   ]
  },
  {
   "cell_type": "markdown",
   "metadata": {
    "id": "bbTR8UQO0q1T"
   },
   "source": [
    "## Conclusión general\n",
    "\n",
    "[En esta sección final, enumera tus conclusiones importantes. Asegúrate de que estas abarquen todas las decisiones (suposiciones) importantes que adoptaste y que determinaron la forma elegida para procesar y analizar los datos.]\n",
    "Se observó que los usuarios del plan Ultimate tienden a realizar más llamadas y generar mayores ingresos en promedio en comparación con los usuarios del plan Surf. Esto sugiere que los planes más costosos ofrecen una mayor flexibilidad y uso del servicio\n",
    " La alta varianza en los ingresos de usuarios en el plan Surf indica la existencia de tanto usuarios ligeros como pesados, lo que indica la existencia de oportunidades para ajustar los planes según las necesidades que tenga cada uno de ellos.\n",
    "\n",
    "Se reconoció la necesidad de segmentar a los usuarios en diferentes grupos basados en su uso del servicio. Algunos usuarios en el plan \"Surf\" podrían beneficiarse de promociones que los motiven a cambiar a un plan más alto si su uso excede consistentemente los límites del plan actual.\n",
    "Al analizar los ingresos y la duración de las llamadas, se identificó que muchos usuarios superan los límites de sus paquetes. Esto puede indicar la necesidad de revisiones en los límites de los planes para mejorar la satisfacción del cliente y reducir la frustración asociada con los costos adicionales.\n",
    "Se planteó la hipótesis de que los ingresos promedio de los usuarios en el área NY-NJ podrían ser diferentes en comparación con otras regiones. Este análisis resalta la importancia de considerar la ubicación al diseñar planes y estrategias de marketing.\n",
    "La utilización de gráficos (histogramas y diagramas de caja) fue fundamental para proporcionar una representación clara de la distribución de los datos y facilitar la identificación de patrones de uso y comportamiento.\n",
    "Se demostró que existe una relación entre el tipo de plan contratado y el uso del servicio. Se determinó que los usuarios con planes más altos tienden a utilizar más minutos, mensajes y datos.\n",
    "\n",
    "Por lo tanto se recomienda:\n",
    "1-Revisar Tarifas y Límite de Paquetes, es decir,tener en consideracion reestructurar los planes de manera de stisfacer mejor las necesidades de los usuarios bsándose en los patrones de uso que se han observado. \n",
    "2-Incluir programas de fidelización como estrategia de marketing, es decir,llegar a implementar estas estrategias para promover cambios de planes basados en el comportamiento del usuario, especialmente para aquellos que frecuentemente superan los límites de su plan.\n",
    "3-Monitoreo Continuo, es decir, se recomienda realizar análisis regular de los datos para ajustar estrategias y planes según las tendencias de uso observadas."
   ]
  },
  {
   "cell_type": "markdown",
   "metadata": {},
   "source": [
    "<div class=\"alert alert-block alert-success\">\n",
    "<b>Comentario del revisor (1ra Iteración)</b> <a class=“tocSkip”></a>\n",
    "\n",
    "Tu análisis sobre los planes es realmente acertado. Has demostrado una buena comprensión analítica al ir más allá de los simples números, utilizando herramientas gráficas para revelar patrones de comportamiento de usuarios y formulando recomendaciones estratégicas fundamentadas. Lo más valioso es tu capacidad para conectar datos con insights de negocio, considerando no solo aspectos financieros, sino también la experiencia y satisfacción del cliente. \n",
    "\n",
    "</div>"
   ]
  }
 ],
 "metadata": {
  "ExecuteTimeLog": [
   {
    "duration": 828,
    "start_time": "2021-11-16T09:21:11.304Z"
   },
   {
    "duration": 893,
    "start_time": "2021-11-16T09:21:17.728Z"
   },
   {
    "duration": 1150,
    "start_time": "2021-11-16T09:21:29.568Z"
   },
   {
    "duration": 3,
    "start_time": "2021-11-16T09:24:14.495Z"
   },
   {
    "duration": 120,
    "start_time": "2021-11-16T09:24:46.630Z"
   },
   {
    "duration": 3,
    "start_time": "2021-11-16T09:28:27.882Z"
   },
   {
    "duration": 4,
    "start_time": "2021-11-16T09:29:54.281Z"
   },
   {
    "duration": 3,
    "start_time": "2021-11-16T09:30:45.936Z"
   },
   {
    "duration": 4,
    "start_time": "2021-11-16T09:31:06.300Z"
   },
   {
    "duration": 113,
    "start_time": "2021-11-16T09:31:37.208Z"
   },
   {
    "duration": 143,
    "start_time": "2021-11-16T09:31:48.656Z"
   },
   {
    "duration": 98,
    "start_time": "2021-11-16T09:31:55.678Z"
   },
   {
    "duration": 3,
    "start_time": "2021-11-16T09:32:08.535Z"
   },
   {
    "duration": 111,
    "start_time": "2021-11-16T09:32:10.120Z"
   },
   {
    "duration": 3,
    "start_time": "2021-11-16T09:32:15.732Z"
   },
   {
    "duration": 4,
    "start_time": "2021-11-16T09:32:29.423Z"
   },
   {
    "duration": 3,
    "start_time": "2021-11-16T10:03:03.074Z"
   },
   {
    "duration": 3,
    "start_time": "2021-11-16T10:10:01.288Z"
   },
   {
    "duration": 3,
    "start_time": "2021-11-16T10:10:46.923Z"
   },
   {
    "duration": 121,
    "start_time": "2021-11-16T10:37:46.494Z"
   },
   {
    "duration": 125,
    "start_time": "2021-11-16T10:38:20.632Z"
   },
   {
    "duration": 112,
    "start_time": "2021-11-16T10:46:53.001Z"
   },
   {
    "duration": 110,
    "start_time": "2021-11-16T10:48:25.775Z"
   },
   {
    "duration": 3,
    "start_time": "2021-11-16T10:50:18.720Z"
   },
   {
    "duration": 4,
    "start_time": "2021-11-16T10:50:37.649Z"
   },
   {
    "duration": 2,
    "start_time": "2021-11-16T10:50:51.884Z"
   },
   {
    "duration": 3,
    "start_time": "2021-11-16T10:51:56.237Z"
   },
   {
    "duration": 101,
    "start_time": "2021-11-16T10:53:13.791Z"
   },
   {
    "duration": 3,
    "start_time": "2021-11-16T10:55:59.186Z"
   },
   {
    "duration": 3,
    "start_time": "2021-11-16T10:56:10.751Z"
   },
   {
    "duration": 3,
    "start_time": "2021-11-16T10:56:49.038Z"
   },
   {
    "duration": 3,
    "start_time": "2021-11-16T10:56:49.174Z"
   },
   {
    "duration": 4,
    "start_time": "2021-11-16T10:56:49.414Z"
   },
   {
    "duration": 3,
    "start_time": "2021-11-16T10:56:49.680Z"
   },
   {
    "duration": 3,
    "start_time": "2021-11-16T10:56:50.370Z"
   },
   {
    "duration": 114,
    "start_time": "2021-11-16T10:59:34.518Z"
   },
   {
    "duration": 3,
    "start_time": "2021-11-16T11:01:41.201Z"
   },
   {
    "duration": 116,
    "start_time": "2021-11-16T11:01:48.754Z"
   },
   {
    "duration": 3,
    "start_time": "2021-11-16T11:02:16.685Z"
   },
   {
    "duration": 3,
    "start_time": "2021-11-16T11:02:19.479Z"
   },
   {
    "duration": 3,
    "start_time": "2021-11-16T11:02:47.067Z"
   },
   {
    "duration": 3,
    "start_time": "2021-11-16T11:02:49.353Z"
   },
   {
    "duration": 3,
    "start_time": "2021-11-16T11:03:07.835Z"
   },
   {
    "duration": 3,
    "start_time": "2021-11-16T11:03:07.953Z"
   },
   {
    "duration": 112,
    "start_time": "2021-11-16T11:07:52.072Z"
   },
   {
    "duration": 187,
    "start_time": "2021-11-16T11:09:23.468Z"
   },
   {
    "duration": 4,
    "start_time": "2021-11-16T11:10:01.455Z"
   },
   {
    "duration": 3,
    "start_time": "2021-11-16T11:10:05.069Z"
   },
   {
    "duration": 4,
    "start_time": "2021-11-16T11:10:13.376Z"
   },
   {
    "duration": 3,
    "start_time": "2021-11-16T11:10:14.434Z"
   },
   {
    "duration": 3,
    "start_time": "2021-11-16T11:10:22.853Z"
   },
   {
    "duration": 4,
    "start_time": "2021-11-16T11:27:29.279Z"
   },
   {
    "duration": 4,
    "start_time": "2021-11-16T11:29:08.919Z"
   },
   {
    "duration": 118,
    "start_time": "2021-11-16T11:29:46.703Z"
   },
   {
    "duration": 437,
    "start_time": "2021-11-16T11:36:02.181Z"
   },
   {
    "duration": 157,
    "start_time": "2021-11-16T11:36:14.388Z"
   },
   {
    "duration": 207,
    "start_time": "2021-11-16T11:47:15.898Z"
   },
   {
    "duration": 3,
    "start_time": "2021-11-16T11:53:52.092Z"
   },
   {
    "duration": 3,
    "start_time": "2021-11-16T11:53:52.236Z"
   },
   {
    "duration": 3,
    "start_time": "2021-11-16T11:59:12.005Z"
   },
   {
    "duration": 112,
    "start_time": "2021-11-16T12:00:33.446Z"
   },
   {
    "duration": 3,
    "start_time": "2021-11-16T12:02:14.453Z"
   },
   {
    "duration": 3,
    "start_time": "2021-11-16T12:02:39.512Z"
   },
   {
    "duration": 106,
    "start_time": "2021-11-16T12:03:03.460Z"
   },
   {
    "duration": 3,
    "start_time": "2021-11-17T20:37:21.139Z"
   },
   {
    "duration": 3,
    "start_time": "2021-11-17T20:37:22.229Z"
   },
   {
    "duration": 3,
    "start_time": "2021-11-17T20:38:38.806Z"
   },
   {
    "duration": 3,
    "start_time": "2021-11-17T20:38:41.958Z"
   },
   {
    "duration": 3,
    "start_time": "2021-11-17T20:43:46.551Z"
   },
   {
    "duration": 4,
    "start_time": "2021-11-17T20:58:21.835Z"
   },
   {
    "duration": 3,
    "start_time": "2021-11-17T20:59:21.872Z"
   },
   {
    "duration": 4,
    "start_time": "2021-11-17T20:59:45.352Z"
   },
   {
    "duration": 4,
    "start_time": "2021-11-17T20:59:49.646Z"
   },
   {
    "duration": 159,
    "start_time": "2021-11-17T21:02:26.949Z"
   },
   {
    "duration": 3,
    "start_time": "2021-11-17T21:03:53.461Z"
   },
   {
    "duration": 3,
    "start_time": "2021-11-17T21:03:53.694Z"
   },
   {
    "duration": 3,
    "start_time": "2021-11-17T21:05:28.145Z"
   },
   {
    "duration": 116,
    "start_time": "2021-11-17T21:05:57.787Z"
   },
   {
    "duration": 3,
    "start_time": "2021-11-17T21:06:37.993Z"
   },
   {
    "duration": 3,
    "start_time": "2021-11-17T21:06:38.261Z"
   },
   {
    "duration": 3,
    "start_time": "2021-11-17T21:11:54.358Z"
   },
   {
    "duration": 3,
    "start_time": "2021-11-17T21:12:43.846Z"
   },
   {
    "duration": 4,
    "start_time": "2021-11-17T21:13:08.773Z"
   },
   {
    "duration": 3,
    "start_time": "2021-11-17T21:14:44.441Z"
   },
   {
    "duration": 3,
    "start_time": "2021-11-17T21:15:42.059Z"
   },
   {
    "duration": 4,
    "start_time": "2021-11-17T21:15:51.995Z"
   },
   {
    "duration": 3,
    "start_time": "2021-11-17T21:15:53.923Z"
   },
   {
    "duration": 3,
    "start_time": "2021-11-17T21:15:55.282Z"
   },
   {
    "duration": 3,
    "start_time": "2021-11-17T21:16:28.492Z"
   },
   {
    "duration": 3,
    "start_time": "2021-11-17T21:16:32.603Z"
   },
   {
    "duration": 3,
    "start_time": "2021-11-17T21:17:06.941Z"
   },
   {
    "duration": 98,
    "start_time": "2021-11-17T21:18:05.733Z"
   },
   {
    "duration": 4,
    "start_time": "2021-11-17T21:21:35.255Z"
   },
   {
    "duration": 3,
    "start_time": "2021-11-17T21:21:37.804Z"
   },
   {
    "duration": 4,
    "start_time": "2021-11-17T21:23:06.071Z"
   },
   {
    "duration": 3,
    "start_time": "2021-11-17T21:23:24.799Z"
   },
   {
    "duration": 3,
    "start_time": "2021-11-17T21:23:32.591Z"
   },
   {
    "duration": 98,
    "start_time": "2021-11-17T21:28:31.559Z"
   },
   {
    "duration": 3,
    "start_time": "2021-11-17T21:28:45.448Z"
   },
   {
    "duration": 3,
    "start_time": "2021-11-17T21:29:17.303Z"
   },
   {
    "duration": 3,
    "start_time": "2021-11-17T21:29:29.617Z"
   },
   {
    "duration": 3,
    "start_time": "2021-11-17T21:29:32.681Z"
   },
   {
    "duration": 3,
    "start_time": "2021-11-17T21:36:11.474Z"
   },
   {
    "duration": 3,
    "start_time": "2021-11-17T21:36:14.791Z"
   },
   {
    "duration": 3,
    "start_time": "2021-11-17T21:36:53.943Z"
   },
   {
    "duration": 3,
    "start_time": "2021-11-17T21:36:56.165Z"
   },
   {
    "duration": 4,
    "start_time": "2021-11-17T21:37:16.590Z"
   },
   {
    "duration": 3,
    "start_time": "2021-11-17T21:37:22.702Z"
   },
   {
    "duration": 4,
    "start_time": "2021-11-17T21:38:03.479Z"
   },
   {
    "duration": 3,
    "start_time": "2021-11-17T21:38:08.601Z"
   },
   {
    "duration": 3,
    "start_time": "2021-11-17T21:38:12.928Z"
   },
   {
    "duration": 3,
    "start_time": "2021-11-17T21:38:48.896Z"
   },
   {
    "duration": 2,
    "start_time": "2021-11-17T21:38:49.171Z"
   },
   {
    "duration": 4,
    "start_time": "2021-11-17T21:39:57.889Z"
   },
   {
    "duration": 3,
    "start_time": "2021-11-17T21:39:58.057Z"
   },
   {
    "duration": 3,
    "start_time": "2021-11-17T21:41:20.108Z"
   },
   {
    "duration": 3,
    "start_time": "2021-11-17T21:41:20.629Z"
   },
   {
    "duration": 3,
    "start_time": "2021-11-17T21:42:49.136Z"
   },
   {
    "duration": 3,
    "start_time": "2021-11-17T21:43:15.137Z"
   },
   {
    "duration": 4,
    "start_time": "2021-11-17T21:43:16.766Z"
   },
   {
    "duration": 4,
    "start_time": "2021-11-17T21:43:31.711Z"
   },
   {
    "duration": 3,
    "start_time": "2021-11-17T21:43:36.312Z"
   },
   {
    "duration": 4,
    "start_time": "2021-11-17T21:45:08.825Z"
   },
   {
    "duration": 4,
    "start_time": "2021-11-17T21:45:10.119Z"
   },
   {
    "duration": 4,
    "start_time": "2021-11-17T21:45:13.748Z"
   },
   {
    "duration": 3,
    "start_time": "2021-11-17T21:45:22.219Z"
   },
   {
    "duration": 3,
    "start_time": "2021-11-17T21:45:33.412Z"
   },
   {
    "duration": 2,
    "start_time": "2021-11-17T21:46:01.885Z"
   },
   {
    "duration": 3,
    "start_time": "2021-11-17T21:46:03.628Z"
   },
   {
    "duration": 107,
    "start_time": "2021-11-17T21:47:32.512Z"
   },
   {
    "duration": 103,
    "start_time": "2021-11-17T21:50:36.243Z"
   },
   {
    "duration": 3,
    "start_time": "2021-11-18T06:28:31.440Z"
   },
   {
    "duration": 3,
    "start_time": "2021-11-18T06:29:00.168Z"
   },
   {
    "duration": 3,
    "start_time": "2021-11-18T06:31:27.008Z"
   },
   {
    "duration": 2,
    "start_time": "2021-11-18T06:35:34.288Z"
   },
   {
    "duration": 2,
    "start_time": "2021-11-18T06:38:04.527Z"
   },
   {
    "duration": 593,
    "start_time": "2024-12-09T02:04:33.426Z"
   },
   {
    "duration": 335,
    "start_time": "2024-12-09T02:05:55.127Z"
   },
   {
    "duration": 226,
    "start_time": "2024-12-09T02:05:57.048Z"
   },
   {
    "duration": 11,
    "start_time": "2024-12-09T02:07:39.320Z"
   },
   {
    "duration": 473,
    "start_time": "2024-12-09T02:10:28.257Z"
   },
   {
    "duration": 7,
    "start_time": "2024-12-09T02:11:11.796Z"
   },
   {
    "duration": 5,
    "start_time": "2024-12-09T02:11:39.481Z"
   },
   {
    "duration": 9,
    "start_time": "2024-12-09T02:11:49.649Z"
   },
   {
    "duration": 6,
    "start_time": "2024-12-09T02:12:12.826Z"
   },
   {
    "duration": 4,
    "start_time": "2024-12-09T02:12:19.833Z"
   },
   {
    "duration": 27,
    "start_time": "2024-12-09T02:12:23.337Z"
   },
   {
    "duration": 6,
    "start_time": "2024-12-09T02:12:46.365Z"
   },
   {
    "duration": 15,
    "start_time": "2024-12-09T02:32:46.000Z"
   },
   {
    "duration": 359,
    "start_time": "2024-12-09T02:33:06.843Z"
   },
   {
    "duration": 46,
    "start_time": "2024-12-09T02:33:53.388Z"
   },
   {
    "duration": 44,
    "start_time": "2024-12-09T02:35:26.966Z"
   },
   {
    "duration": 431,
    "start_time": "2024-12-09T02:45:21.926Z"
   },
   {
    "duration": 127,
    "start_time": "2024-12-09T02:46:43.292Z"
   },
   {
    "duration": 36,
    "start_time": "2024-12-09T02:48:02.759Z"
   },
   {
    "duration": 38,
    "start_time": "2024-12-09T02:49:02.339Z"
   },
   {
    "duration": 37,
    "start_time": "2024-12-09T02:49:37.824Z"
   },
   {
    "duration": 38,
    "start_time": "2024-12-09T02:49:53.890Z"
   },
   {
    "duration": 42,
    "start_time": "2024-12-09T02:56:03.027Z"
   },
   {
    "duration": 37,
    "start_time": "2024-12-09T03:00:45.176Z"
   },
   {
    "duration": 59,
    "start_time": "2024-12-09T03:01:24.328Z"
   },
   {
    "duration": 11,
    "start_time": "2024-12-09T03:04:04.825Z"
   },
   {
    "duration": 6,
    "start_time": "2024-12-09T03:05:49.386Z"
   },
   {
    "duration": 3,
    "start_time": "2024-12-09T03:06:08.125Z"
   },
   {
    "duration": 6,
    "start_time": "2024-12-09T03:06:21.406Z"
   },
   {
    "duration": 15,
    "start_time": "2024-12-09T03:12:48.616Z"
   },
   {
    "duration": 36,
    "start_time": "2024-12-09T03:12:59.266Z"
   },
   {
    "duration": 37,
    "start_time": "2024-12-09T03:13:59.697Z"
   },
   {
    "duration": 42,
    "start_time": "2024-12-09T03:14:37.927Z"
   },
   {
    "duration": 40,
    "start_time": "2024-12-09T03:14:43.000Z"
   },
   {
    "duration": 171,
    "start_time": "2024-12-09T03:18:01.088Z"
   },
   {
    "duration": 3,
    "start_time": "2024-12-09T03:18:04.386Z"
   },
   {
    "duration": 160,
    "start_time": "2024-12-09T03:18:06.024Z"
   },
   {
    "duration": 9,
    "start_time": "2024-12-09T03:18:08.505Z"
   },
   {
    "duration": 6,
    "start_time": "2024-12-09T03:18:11.441Z"
   },
   {
    "duration": 52,
    "start_time": "2024-12-09T03:18:14.720Z"
   },
   {
    "duration": 38,
    "start_time": "2024-12-09T03:18:24.153Z"
   },
   {
    "duration": 15,
    "start_time": "2024-12-09T03:22:15.499Z"
   },
   {
    "duration": 9,
    "start_time": "2024-12-09T03:23:44.995Z"
   },
   {
    "duration": 8,
    "start_time": "2024-12-09T03:24:07.708Z"
   },
   {
    "duration": 13,
    "start_time": "2024-12-09T03:29:33.991Z"
   },
   {
    "duration": 13,
    "start_time": "2024-12-09T03:29:47.262Z"
   },
   {
    "duration": 20,
    "start_time": "2024-12-09T03:30:00.578Z"
   },
   {
    "duration": 12,
    "start_time": "2024-12-09T03:30:15.648Z"
   },
   {
    "duration": 13,
    "start_time": "2024-12-09T03:30:25.631Z"
   },
   {
    "duration": 13,
    "start_time": "2024-12-09T03:31:22.259Z"
   },
   {
    "duration": 452,
    "start_time": "2024-12-09T03:32:37.409Z"
   },
   {
    "duration": 167,
    "start_time": "2024-12-09T03:33:06.680Z"
   },
   {
    "duration": 13,
    "start_time": "2024-12-09T03:34:23.109Z"
   },
   {
    "duration": 14,
    "start_time": "2024-12-09T03:34:41.967Z"
   },
   {
    "duration": 11,
    "start_time": "2024-12-09T03:34:50.696Z"
   },
   {
    "duration": 19,
    "start_time": "2024-12-09T03:35:06.544Z"
   },
   {
    "duration": 13,
    "start_time": "2024-12-09T03:35:54.973Z"
   },
   {
    "duration": 7,
    "start_time": "2024-12-09T03:36:01.135Z"
   },
   {
    "duration": 18,
    "start_time": "2024-12-09T03:36:39.350Z"
   },
   {
    "duration": 8,
    "start_time": "2024-12-09T03:36:50.865Z"
   },
   {
    "duration": 19,
    "start_time": "2024-12-09T03:37:51.309Z"
   },
   {
    "duration": 158,
    "start_time": "2024-12-10T01:47:00.727Z"
   },
   {
    "duration": 602,
    "start_time": "2024-12-10T01:47:22.446Z"
   },
   {
    "duration": 206,
    "start_time": "2024-12-10T01:47:24.211Z"
   },
   {
    "duration": 11,
    "start_time": "2024-12-10T01:47:37.236Z"
   },
   {
    "duration": 7,
    "start_time": "2024-12-10T01:47:38.199Z"
   },
   {
    "duration": 8,
    "start_time": "2024-12-10T01:47:42.908Z"
   },
   {
    "duration": 16,
    "start_time": "2024-12-10T01:47:50.608Z"
   },
   {
    "duration": 24,
    "start_time": "2024-12-10T01:48:00.459Z"
   },
   {
    "duration": 12,
    "start_time": "2024-12-10T01:48:04.208Z"
   },
   {
    "duration": 13,
    "start_time": "2024-12-10T01:48:12.968Z"
   },
   {
    "duration": 17,
    "start_time": "2024-12-10T01:49:26.169Z"
   },
   {
    "duration": 9,
    "start_time": "2024-12-10T01:49:31.330Z"
   },
   {
    "duration": 448,
    "start_time": "2024-12-10T02:08:12.100Z"
   },
   {
    "duration": 18,
    "start_time": "2024-12-10T02:08:30.574Z"
   },
   {
    "duration": 26,
    "start_time": "2024-12-10T02:12:44.221Z"
   },
   {
    "duration": 43,
    "start_time": "2024-12-10T02:14:46.661Z"
   },
   {
    "duration": 9,
    "start_time": "2024-12-10T02:15:00.733Z"
   },
   {
    "duration": 21,
    "start_time": "2024-12-10T02:17:43.782Z"
   },
   {
    "duration": 11,
    "start_time": "2024-12-10T02:18:50.181Z"
   },
   {
    "duration": 5,
    "start_time": "2024-12-10T02:19:08.944Z"
   },
   {
    "duration": 29,
    "start_time": "2024-12-10T02:22:02.084Z"
   },
   {
    "duration": 29,
    "start_time": "2024-12-10T02:22:34.798Z"
   },
   {
    "duration": 26,
    "start_time": "2024-12-10T02:23:16.666Z"
   },
   {
    "duration": 44,
    "start_time": "2024-12-10T02:27:33.058Z"
   },
   {
    "duration": 30,
    "start_time": "2024-12-10T02:28:45.852Z"
   },
   {
    "duration": 33,
    "start_time": "2024-12-10T02:29:10.254Z"
   },
   {
    "duration": 16,
    "start_time": "2024-12-10T02:33:37.752Z"
   },
   {
    "duration": 14,
    "start_time": "2024-12-10T02:39:52.080Z"
   },
   {
    "duration": 16,
    "start_time": "2024-12-10T02:40:00.741Z"
   },
   {
    "duration": 12,
    "start_time": "2024-12-10T02:47:38.457Z"
   },
   {
    "duration": 17,
    "start_time": "2024-12-10T02:49:45.820Z"
   },
   {
    "duration": 16,
    "start_time": "2024-12-10T02:50:40.749Z"
   },
   {
    "duration": 17,
    "start_time": "2024-12-10T02:50:48.381Z"
   },
   {
    "duration": 15,
    "start_time": "2024-12-10T02:51:32.606Z"
   },
   {
    "duration": 15,
    "start_time": "2024-12-10T02:52:55.739Z"
   },
   {
    "duration": 18,
    "start_time": "2024-12-10T02:53:03.625Z"
   },
   {
    "duration": 5,
    "start_time": "2024-12-10T02:54:52.951Z"
   },
   {
    "duration": 13,
    "start_time": "2024-12-10T02:55:36.302Z"
   },
   {
    "duration": 20,
    "start_time": "2024-12-10T02:55:44.573Z"
   },
   {
    "duration": 21,
    "start_time": "2024-12-10T03:00:44.796Z"
   },
   {
    "duration": 2,
    "start_time": "2024-12-10T03:02:26.862Z"
   },
   {
    "duration": 210,
    "start_time": "2024-12-10T03:03:29.631Z"
   },
   {
    "duration": 75,
    "start_time": "2024-12-10T03:03:45.462Z"
   },
   {
    "duration": 16,
    "start_time": "2024-12-10T03:07:32.551Z"
   },
   {
    "duration": 19,
    "start_time": "2024-12-10T03:07:48.143Z"
   },
   {
    "duration": 16,
    "start_time": "2024-12-10T03:11:27.753Z"
   },
   {
    "duration": 17,
    "start_time": "2024-12-10T03:12:04.410Z"
   },
   {
    "duration": 13,
    "start_time": "2024-12-10T03:14:44.590Z"
   },
   {
    "duration": 81,
    "start_time": "2024-12-10T03:18:41.356Z"
   },
   {
    "duration": 78,
    "start_time": "2024-12-10T03:21:50.317Z"
   },
   {
    "duration": 77,
    "start_time": "2024-12-10T03:21:57.388Z"
   },
   {
    "duration": 22,
    "start_time": "2024-12-10T03:22:33.753Z"
   },
   {
    "duration": 20,
    "start_time": "2024-12-10T03:22:59.789Z"
   },
   {
    "duration": 15,
    "start_time": "2024-12-10T03:23:09.289Z"
   },
   {
    "duration": 19,
    "start_time": "2024-12-10T03:23:46.702Z"
   },
   {
    "duration": 17,
    "start_time": "2024-12-10T03:24:49.720Z"
   },
   {
    "duration": 20,
    "start_time": "2024-12-10T03:26:33.089Z"
   },
   {
    "duration": 6,
    "start_time": "2024-12-10T03:30:00.568Z"
   },
   {
    "duration": 225,
    "start_time": "2024-12-10T03:30:07.926Z"
   },
   {
    "duration": 19,
    "start_time": "2024-12-10T03:30:28.875Z"
   },
   {
    "duration": 16,
    "start_time": "2024-12-10T03:34:22.813Z"
   },
   {
    "duration": 17,
    "start_time": "2024-12-10T03:34:41.311Z"
   },
   {
    "duration": 17,
    "start_time": "2024-12-10T03:35:05.612Z"
   },
   {
    "duration": 20,
    "start_time": "2024-12-10T03:36:10.347Z"
   },
   {
    "duration": 22,
    "start_time": "2024-12-10T03:36:21.530Z"
   },
   {
    "duration": 21,
    "start_time": "2024-12-10T03:36:28.745Z"
   },
   {
    "duration": 61,
    "start_time": "2024-12-10T03:36:39.009Z"
   },
   {
    "duration": 60,
    "start_time": "2024-12-10T03:36:47.161Z"
   },
   {
    "duration": 46,
    "start_time": "2024-12-10T03:37:25.370Z"
   },
   {
    "duration": 18,
    "start_time": "2024-12-10T03:37:53.665Z"
   },
   {
    "duration": 83,
    "start_time": "2024-12-10T03:39:25.392Z"
   },
   {
    "duration": 28,
    "start_time": "2024-12-10T03:45:57.274Z"
   },
   {
    "duration": 27,
    "start_time": "2024-12-10T03:46:08.326Z"
   },
   {
    "duration": 18,
    "start_time": "2024-12-10T03:47:15.679Z"
   },
   {
    "duration": 303,
    "start_time": "2024-12-10T03:47:50.203Z"
   },
   {
    "duration": 61,
    "start_time": "2024-12-10T03:47:58.619Z"
   },
   {
    "duration": 41,
    "start_time": "2024-12-10T03:48:08.618Z"
   },
   {
    "duration": 26,
    "start_time": "2024-12-10T03:48:15.408Z"
   },
   {
    "duration": 19,
    "start_time": "2024-12-10T03:48:43.223Z"
   },
   {
    "duration": 20,
    "start_time": "2024-12-10T03:49:57.664Z"
   },
   {
    "duration": 18,
    "start_time": "2024-12-10T03:50:53.594Z"
   },
   {
    "duration": 17,
    "start_time": "2024-12-10T03:52:03.065Z"
   },
   {
    "duration": 17,
    "start_time": "2024-12-10T03:52:29.000Z"
   },
   {
    "duration": 18,
    "start_time": "2024-12-10T03:53:24.902Z"
   },
   {
    "duration": 18,
    "start_time": "2024-12-10T03:54:42.112Z"
   },
   {
    "duration": 18,
    "start_time": "2024-12-10T03:55:29.317Z"
   },
   {
    "duration": 21,
    "start_time": "2024-12-10T03:55:47.974Z"
   },
   {
    "duration": 19,
    "start_time": "2024-12-10T03:56:19.320Z"
   },
   {
    "duration": 21,
    "start_time": "2024-12-10T03:56:41.871Z"
   },
   {
    "duration": 23,
    "start_time": "2024-12-10T03:56:48.161Z"
   },
   {
    "duration": 21,
    "start_time": "2024-12-10T03:58:45.042Z"
   },
   {
    "duration": 21,
    "start_time": "2024-12-10T03:58:57.837Z"
   },
   {
    "duration": 18,
    "start_time": "2024-12-10T03:59:07.884Z"
   },
   {
    "duration": 18,
    "start_time": "2024-12-10T03:59:25.973Z"
   },
   {
    "duration": 20,
    "start_time": "2024-12-10T03:59:46.493Z"
   },
   {
    "duration": 18,
    "start_time": "2024-12-10T03:59:56.093Z"
   },
   {
    "duration": 21,
    "start_time": "2024-12-10T04:00:24.649Z"
   },
   {
    "duration": 15,
    "start_time": "2024-12-10T04:00:40.180Z"
   },
   {
    "duration": 19,
    "start_time": "2024-12-10T04:01:41.067Z"
   },
   {
    "duration": 15,
    "start_time": "2024-12-10T04:01:45.914Z"
   },
   {
    "duration": 15,
    "start_time": "2024-12-10T04:02:15.912Z"
   },
   {
    "duration": 15,
    "start_time": "2024-12-10T04:02:37.980Z"
   },
   {
    "duration": 21,
    "start_time": "2024-12-10T04:03:42.330Z"
   },
   {
    "duration": 407,
    "start_time": "2024-12-10T04:05:16.018Z"
   },
   {
    "duration": 36,
    "start_time": "2024-12-10T04:07:08.127Z"
   },
   {
    "duration": 115,
    "start_time": "2024-12-10T04:08:07.616Z"
   },
   {
    "duration": 2,
    "start_time": "2024-12-10T04:08:42.071Z"
   },
   {
    "duration": 111,
    "start_time": "2024-12-10T04:11:33.460Z"
   },
   {
    "duration": 108,
    "start_time": "2024-12-10T04:12:54.263Z"
   },
   {
    "duration": 3,
    "start_time": "2024-12-10T04:13:36.811Z"
   },
   {
    "duration": 2075,
    "start_time": "2024-12-10T04:14:03.617Z"
   },
   {
    "duration": 76,
    "start_time": "2024-12-10T04:14:52.967Z"
   },
   {
    "duration": 62,
    "start_time": "2024-12-10T04:15:47.504Z"
   },
   {
    "duration": 2,
    "start_time": "2024-12-10T04:16:32.959Z"
   },
   {
    "duration": 121,
    "start_time": "2024-12-10T04:25:07.518Z"
   },
   {
    "duration": 9,
    "start_time": "2024-12-10T04:26:31.904Z"
   },
   {
    "duration": 12,
    "start_time": "2024-12-10T04:27:40.430Z"
   },
   {
    "duration": 9,
    "start_time": "2024-12-10T04:27:52.846Z"
   },
   {
    "duration": 14,
    "start_time": "2024-12-10T04:28:40.533Z"
   },
   {
    "duration": 16,
    "start_time": "2024-12-10T04:29:11.604Z"
   },
   {
    "duration": 18,
    "start_time": "2024-12-10T04:30:40.421Z"
   },
   {
    "duration": 57,
    "start_time": "2024-12-10T04:33:45.204Z"
   },
   {
    "duration": 36,
    "start_time": "2024-12-10T04:36:23.313Z"
   },
   {
    "duration": 37,
    "start_time": "2024-12-10T04:36:31.841Z"
   },
   {
    "duration": 36,
    "start_time": "2024-12-10T04:36:55.305Z"
   },
   {
    "duration": 11,
    "start_time": "2024-12-10T04:42:05.263Z"
   },
   {
    "duration": 19,
    "start_time": "2024-12-10T04:42:22.684Z"
   },
   {
    "duration": 22,
    "start_time": "2024-12-10T04:43:16.024Z"
   },
   {
    "duration": 55,
    "start_time": "2024-12-10T04:44:24.253Z"
   },
   {
    "duration": 36,
    "start_time": "2024-12-10T04:44:37.434Z"
   },
   {
    "duration": 23,
    "start_time": "2024-12-10T04:45:23.040Z"
   },
   {
    "duration": 23,
    "start_time": "2024-12-10T04:45:37.736Z"
   },
   {
    "duration": 9,
    "start_time": "2024-12-10T04:49:00.971Z"
   },
   {
    "duration": 26,
    "start_time": "2024-12-10T04:49:16.328Z"
   },
   {
    "duration": 5,
    "start_time": "2024-12-10T04:51:37.188Z"
   },
   {
    "duration": 22,
    "start_time": "2024-12-10T04:51:46.912Z"
   },
   {
    "duration": 20,
    "start_time": "2024-12-10T04:54:02.405Z"
   },
   {
    "duration": 17,
    "start_time": "2024-12-10T04:55:34.749Z"
   },
   {
    "duration": 17,
    "start_time": "2024-12-10T04:56:02.926Z"
   },
   {
    "duration": 29,
    "start_time": "2024-12-10T04:58:53.083Z"
   },
   {
    "duration": 27,
    "start_time": "2024-12-10T05:05:04.196Z"
   },
   {
    "duration": 91,
    "start_time": "2024-12-10T05:08:32.102Z"
   },
   {
    "duration": 88,
    "start_time": "2024-12-10T05:10:22.373Z"
   },
   {
    "duration": 19,
    "start_time": "2024-12-10T05:19:52.912Z"
   },
   {
    "duration": 19,
    "start_time": "2024-12-10T05:20:40.500Z"
   },
   {
    "duration": 35,
    "start_time": "2024-12-10T05:20:50.549Z"
   },
   {
    "duration": 52,
    "start_time": "2024-12-10T05:21:51.562Z"
   },
   {
    "duration": 36,
    "start_time": "2024-12-10T05:22:55.795Z"
   },
   {
    "duration": 157,
    "start_time": "2024-12-10T11:02:21.120Z"
   },
   {
    "duration": 157,
    "start_time": "2024-12-10T17:42:01.998Z"
   },
   {
    "duration": 659,
    "start_time": "2024-12-10T17:42:13.143Z"
   },
   {
    "duration": 3,
    "start_time": "2024-12-10T17:42:18.675Z"
   },
   {
    "duration": 215,
    "start_time": "2024-12-10T17:42:20.968Z"
   },
   {
    "duration": 9,
    "start_time": "2024-12-10T17:42:23.596Z"
   },
   {
    "duration": 6,
    "start_time": "2024-12-10T17:42:27.376Z"
   },
   {
    "duration": 5,
    "start_time": "2024-12-10T17:42:54.348Z"
   },
   {
    "duration": 8,
    "start_time": "2024-12-10T17:42:59.353Z"
   },
   {
    "duration": 7,
    "start_time": "2024-12-10T17:43:02.723Z"
   },
   {
    "duration": 11,
    "start_time": "2024-12-10T17:43:18.129Z"
   },
   {
    "duration": 9,
    "start_time": "2024-12-10T17:43:23.496Z"
   },
   {
    "duration": 18,
    "start_time": "2024-12-10T17:43:27.449Z"
   },
   {
    "duration": 8,
    "start_time": "2024-12-10T17:43:30.675Z"
   },
   {
    "duration": 26,
    "start_time": "2024-12-10T17:44:16.754Z"
   },
   {
    "duration": 12,
    "start_time": "2024-12-10T17:44:21.420Z"
   },
   {
    "duration": 17,
    "start_time": "2024-12-10T17:48:43.082Z"
   },
   {
    "duration": 15,
    "start_time": "2024-12-10T17:48:53.613Z"
   },
   {
    "duration": 22,
    "start_time": "2024-12-10T17:49:02.133Z"
   },
   {
    "duration": 21,
    "start_time": "2024-12-10T17:49:08.505Z"
   },
   {
    "duration": 5,
    "start_time": "2024-12-10T17:49:13.646Z"
   },
   {
    "duration": 21,
    "start_time": "2024-12-10T17:49:38.282Z"
   },
   {
    "duration": 19,
    "start_time": "2024-12-10T17:50:20.791Z"
   },
   {
    "duration": 20,
    "start_time": "2024-12-10T17:50:48.992Z"
   },
   {
    "duration": 14,
    "start_time": "2024-12-10T17:51:03.337Z"
   },
   {
    "duration": 16,
    "start_time": "2024-12-10T17:51:07.838Z"
   },
   {
    "duration": 18,
    "start_time": "2024-12-10T17:51:13.840Z"
   },
   {
    "duration": 64,
    "start_time": "2024-12-10T17:51:20.053Z"
   },
   {
    "duration": 16,
    "start_time": "2024-12-10T17:51:48.692Z"
   },
   {
    "duration": 16,
    "start_time": "2024-12-10T17:52:02.919Z"
   },
   {
    "duration": 259,
    "start_time": "2024-12-10T17:57:48.145Z"
   },
   {
    "duration": 19,
    "start_time": "2024-12-10T17:59:58.649Z"
   },
   {
    "duration": 16,
    "start_time": "2024-12-10T18:00:11.298Z"
   },
   {
    "duration": 15,
    "start_time": "2024-12-10T18:00:43.926Z"
   },
   {
    "duration": 396,
    "start_time": "2024-12-10T18:13:52.510Z"
   },
   {
    "duration": 76,
    "start_time": "2024-12-10T18:14:39.830Z"
   },
   {
    "duration": 65,
    "start_time": "2024-12-10T18:15:41.069Z"
   },
   {
    "duration": 64,
    "start_time": "2024-12-10T18:16:05.792Z"
   },
   {
    "duration": 2303,
    "start_time": "2024-12-10T18:31:55.754Z"
   },
   {
    "duration": 315,
    "start_time": "2024-12-10T18:32:00.553Z"
   },
   {
    "duration": 455,
    "start_time": "2024-12-10T18:50:03.237Z"
   },
   {
    "duration": 496,
    "start_time": "2024-12-10T19:22:16.155Z"
   },
   {
    "duration": 4,
    "start_time": "2024-12-10T19:33:12.678Z"
   },
   {
    "duration": 5,
    "start_time": "2024-12-10T19:34:24.589Z"
   },
   {
    "duration": 5,
    "start_time": "2024-12-10T19:34:36.737Z"
   },
   {
    "duration": 4,
    "start_time": "2024-12-10T19:34:48.159Z"
   },
   {
    "duration": 536,
    "start_time": "2024-12-10T20:07:57.352Z"
   },
   {
    "duration": 331,
    "start_time": "2024-12-10T20:27:56.419Z"
   },
   {
    "duration": 205,
    "start_time": "2024-12-10T20:30:26.157Z"
   },
   {
    "duration": 650,
    "start_time": "2024-12-10T20:38:32.666Z"
   },
   {
    "duration": 10,
    "start_time": "2024-12-10T20:41:30.302Z"
   },
   {
    "duration": 9,
    "start_time": "2024-12-10T20:46:21.841Z"
   },
   {
    "duration": 29,
    "start_time": "2024-12-10T20:55:33.130Z"
   },
   {
    "duration": 7,
    "start_time": "2024-12-10T20:55:46.824Z"
   },
   {
    "duration": 12,
    "start_time": "2024-12-10T20:58:56.956Z"
   },
   {
    "duration": 6,
    "start_time": "2024-12-11T15:31:33.831Z"
   },
   {
    "duration": 3,
    "start_time": "2024-12-11T15:31:38.360Z"
   },
   {
    "duration": 162,
    "start_time": "2024-12-11T22:07:06.305Z"
   },
   {
    "duration": 623,
    "start_time": "2024-12-11T22:07:28.567Z"
   },
   {
    "duration": 232,
    "start_time": "2024-12-11T22:07:31.375Z"
   },
   {
    "duration": 9,
    "start_time": "2024-12-11T22:07:33.796Z"
   },
   {
    "duration": 6,
    "start_time": "2024-12-11T22:07:34.662Z"
   },
   {
    "duration": 8,
    "start_time": "2024-12-11T22:07:36.987Z"
   },
   {
    "duration": 7,
    "start_time": "2024-12-11T22:07:37.146Z"
   },
   {
    "duration": 10,
    "start_time": "2024-12-11T22:07:37.818Z"
   },
   {
    "duration": 9,
    "start_time": "2024-12-11T22:07:38.271Z"
   },
   {
    "duration": 16,
    "start_time": "2024-12-11T22:07:38.545Z"
   },
   {
    "duration": 7,
    "start_time": "2024-12-11T22:07:38.679Z"
   },
   {
    "duration": 19,
    "start_time": "2024-12-11T22:07:42.705Z"
   },
   {
    "duration": 26,
    "start_time": "2024-12-11T22:07:45.211Z"
   },
   {
    "duration": 12,
    "start_time": "2024-12-11T22:07:46.432Z"
   },
   {
    "duration": 6,
    "start_time": "2024-12-11T22:07:47.885Z"
   },
   {
    "duration": 18,
    "start_time": "2024-12-11T22:07:50.090Z"
   },
   {
    "duration": 15,
    "start_time": "2024-12-11T22:07:52.244Z"
   },
   {
    "duration": 7,
    "start_time": "2024-12-11T22:07:54.508Z"
   },
   {
    "duration": 16,
    "start_time": "2024-12-11T22:07:58.973Z"
   },
   {
    "duration": 22,
    "start_time": "2024-12-11T22:08:00.800Z"
   },
   {
    "duration": 5,
    "start_time": "2024-12-11T22:08:05.901Z"
   },
   {
    "duration": 23,
    "start_time": "2024-12-11T22:08:13.586Z"
   },
   {
    "duration": 21,
    "start_time": "2024-12-11T22:10:26.799Z"
   },
   {
    "duration": 13,
    "start_time": "2024-12-11T22:10:36.919Z"
   },
   {
    "duration": 16,
    "start_time": "2024-12-11T22:10:39.735Z"
   },
   {
    "duration": 17,
    "start_time": "2024-12-11T22:10:43.865Z"
   },
   {
    "duration": 15,
    "start_time": "2024-12-11T22:12:50.326Z"
   },
   {
    "duration": 2386,
    "start_time": "2024-12-11T22:13:20.896Z"
   },
   {
    "duration": 575,
    "start_time": "2024-12-11T22:13:30.928Z"
   },
   {
    "duration": 5,
    "start_time": "2024-12-11T22:13:32.682Z"
   },
   {
    "duration": 545,
    "start_time": "2024-12-11T22:13:32.941Z"
   },
   {
    "duration": 5,
    "start_time": "2024-12-11T22:13:39.150Z"
   },
   {
    "duration": 447,
    "start_time": "2024-12-11T22:14:18.642Z"
   },
   {
    "duration": 201,
    "start_time": "2024-12-11T22:14:24.024Z"
   },
   {
    "duration": 176,
    "start_time": "2024-12-11T22:14:26.927Z"
   },
   {
    "duration": 77,
    "start_time": "2024-12-11T22:16:05.965Z"
   },
   {
    "duration": 10,
    "start_time": "2024-12-11T22:16:20.465Z"
   },
   {
    "duration": 7,
    "start_time": "2024-12-11T22:16:32.217Z"
   },
   {
    "duration": 13,
    "start_time": "2024-12-11T22:16:56.336Z"
   },
   {
    "duration": 8,
    "start_time": "2024-12-11T22:16:59.777Z"
   },
   {
    "duration": 601,
    "start_time": "2024-12-12T15:38:54.372Z"
   },
   {
    "duration": 156,
    "start_time": "2024-12-12T15:38:54.975Z"
   },
   {
    "duration": 10,
    "start_time": "2024-12-12T15:38:55.133Z"
   },
   {
    "duration": 6,
    "start_time": "2024-12-12T15:38:55.145Z"
   },
   {
    "duration": 8,
    "start_time": "2024-12-12T15:38:55.154Z"
   },
   {
    "duration": 6,
    "start_time": "2024-12-12T15:38:55.163Z"
   },
   {
    "duration": 9,
    "start_time": "2024-12-12T15:38:55.171Z"
   },
   {
    "duration": 9,
    "start_time": "2024-12-12T15:38:55.182Z"
   },
   {
    "duration": 15,
    "start_time": "2024-12-12T15:38:55.225Z"
   },
   {
    "duration": 7,
    "start_time": "2024-12-12T15:38:55.242Z"
   },
   {
    "duration": 19,
    "start_time": "2024-12-12T15:38:55.250Z"
   },
   {
    "duration": 53,
    "start_time": "2024-12-12T15:38:55.271Z"
   },
   {
    "duration": 12,
    "start_time": "2024-12-12T15:38:55.326Z"
   },
   {
    "duration": 6,
    "start_time": "2024-12-12T15:38:55.342Z"
   },
   {
    "duration": 18,
    "start_time": "2024-12-12T15:38:55.349Z"
   },
   {
    "duration": 14,
    "start_time": "2024-12-12T15:38:55.369Z"
   },
   {
    "duration": 40,
    "start_time": "2024-12-12T15:38:55.384Z"
   },
   {
    "duration": 17,
    "start_time": "2024-12-12T15:38:55.426Z"
   },
   {
    "duration": 20,
    "start_time": "2024-12-12T15:38:55.444Z"
   },
   {
    "duration": 4,
    "start_time": "2024-12-12T15:38:55.466Z"
   },
   {
    "duration": 20,
    "start_time": "2024-12-12T15:38:55.472Z"
   },
   {
    "duration": 44,
    "start_time": "2024-12-12T15:38:55.494Z"
   },
   {
    "duration": 12,
    "start_time": "2024-12-12T15:38:55.539Z"
   },
   {
    "duration": 15,
    "start_time": "2024-12-12T15:38:55.553Z"
   },
   {
    "duration": 19,
    "start_time": "2024-12-12T15:38:55.570Z"
   },
   {
    "duration": 40,
    "start_time": "2024-12-12T15:38:55.591Z"
   },
   {
    "duration": 63,
    "start_time": "2024-12-12T15:38:55.633Z"
   },
   {
    "duration": 542,
    "start_time": "2024-12-12T15:38:55.698Z"
   },
   {
    "duration": 625,
    "start_time": "2024-12-12T15:38:56.242Z"
   },
   {
    "duration": 5,
    "start_time": "2024-12-12T15:38:56.869Z"
   },
   {
    "duration": 525,
    "start_time": "2024-12-12T15:38:56.876Z"
   },
   {
    "duration": 353,
    "start_time": "2024-12-12T15:38:57.403Z"
   },
   {
    "duration": 211,
    "start_time": "2024-12-12T15:38:57.759Z"
   },
   {
    "duration": 11,
    "start_time": "2024-12-12T15:38:57.971Z"
   },
   {
    "duration": 7,
    "start_time": "2024-12-12T15:38:57.983Z"
   },
   {
    "duration": 37,
    "start_time": "2024-12-12T15:38:57.991Z"
   },
   {
    "duration": 14,
    "start_time": "2024-12-12T15:39:20.154Z"
   }
  ],
  "colab": {
   "provenance": []
  },
  "kernelspec": {
   "display_name": "Python 3 (ipykernel)",
   "language": "python",
   "name": "python3"
  },
  "language_info": {
   "codemirror_mode": {
    "name": "ipython",
    "version": 3
   },
   "file_extension": ".py",
   "mimetype": "text/x-python",
   "name": "python",
   "nbconvert_exporter": "python",
   "pygments_lexer": "ipython3",
   "version": "3.9.19"
  },
  "toc": {
   "base_numbering": 1,
   "nav_menu": {},
   "number_sections": true,
   "sideBar": true,
   "skip_h1_title": false,
   "title_cell": "Table of Contents",
   "title_sidebar": "Contents",
   "toc_cell": false,
   "toc_position": {},
   "toc_section_display": true,
   "toc_window_display": false
  }
 },
 "nbformat": 4,
 "nbformat_minor": 1
}
